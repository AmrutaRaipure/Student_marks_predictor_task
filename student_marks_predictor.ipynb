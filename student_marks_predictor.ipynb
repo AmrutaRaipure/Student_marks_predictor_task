{
    "cells": [
        {
            "cell_type": "code",
            "execution_count": 4,
            "source": [
                "import numpy as np\r\n",
                "import pandas as pd\r\n",
                "import matplotlib.pyplot as plt"
            ],
            "outputs": [],
            "metadata": {}
        },
        {
            "cell_type": "code",
            "execution_count": 5,
            "source": [
                "# Dataset path\r\n",
                "url=\"https://drive.google.com/file/d/1UIUSCHSz8FACkMive6k9C8ruvu-MBZR1/view?usp=sharing\"\r\n",
                "path='https://drive.google.com/uc?export=download&id='+url.split('/')[-2]\r\n",
                "data=pd.read_csv(path) \r\n",
                "data.head()"
            ],
            "outputs": [
                {
                    "output_type": "execute_result",
                    "data": {
                        "text/plain": [
                            "   study_hours  student_marks\n",
                            "0         6.83          78.50\n",
                            "1         6.56          76.74\n",
                            "2          NaN          78.68\n",
                            "3         5.67          71.82\n",
                            "4         8.67          84.19"
                        ],
                        "text/html": [
                            "<div>\n",
                            "<style scoped>\n",
                            "    .dataframe tbody tr th:only-of-type {\n",
                            "        vertical-align: middle;\n",
                            "    }\n",
                            "\n",
                            "    .dataframe tbody tr th {\n",
                            "        vertical-align: top;\n",
                            "    }\n",
                            "\n",
                            "    .dataframe thead th {\n",
                            "        text-align: right;\n",
                            "    }\n",
                            "</style>\n",
                            "<table border=\"1\" class=\"dataframe\">\n",
                            "  <thead>\n",
                            "    <tr style=\"text-align: right;\">\n",
                            "      <th></th>\n",
                            "      <th>study_hours</th>\n",
                            "      <th>student_marks</th>\n",
                            "    </tr>\n",
                            "  </thead>\n",
                            "  <tbody>\n",
                            "    <tr>\n",
                            "      <th>0</th>\n",
                            "      <td>6.83</td>\n",
                            "      <td>78.50</td>\n",
                            "    </tr>\n",
                            "    <tr>\n",
                            "      <th>1</th>\n",
                            "      <td>6.56</td>\n",
                            "      <td>76.74</td>\n",
                            "    </tr>\n",
                            "    <tr>\n",
                            "      <th>2</th>\n",
                            "      <td>NaN</td>\n",
                            "      <td>78.68</td>\n",
                            "    </tr>\n",
                            "    <tr>\n",
                            "      <th>3</th>\n",
                            "      <td>5.67</td>\n",
                            "      <td>71.82</td>\n",
                            "    </tr>\n",
                            "    <tr>\n",
                            "      <th>4</th>\n",
                            "      <td>8.67</td>\n",
                            "      <td>84.19</td>\n",
                            "    </tr>\n",
                            "  </tbody>\n",
                            "</table>\n",
                            "</div>"
                        ]
                    },
                    "metadata": {},
                    "execution_count": 5
                }
            ],
            "metadata": {}
        },
        {
            "cell_type": "code",
            "execution_count": 6,
            "source": [
                "data.info()"
            ],
            "outputs": [
                {
                    "output_type": "stream",
                    "name": "stdout",
                    "text": [
                        "<class 'pandas.core.frame.DataFrame'>\n",
                        "RangeIndex: 200 entries, 0 to 199\n",
                        "Data columns (total 2 columns):\n",
                        " #   Column         Non-Null Count  Dtype  \n",
                        "---  ------         --------------  -----  \n",
                        " 0   study_hours    195 non-null    float64\n",
                        " 1   student_marks  200 non-null    float64\n",
                        "dtypes: float64(2)\n",
                        "memory usage: 3.2 KB\n"
                    ]
                }
            ],
            "metadata": {}
        },
        {
            "cell_type": "code",
            "execution_count": 7,
            "source": [
                "data.describe()"
            ],
            "outputs": [
                {
                    "output_type": "execute_result",
                    "data": {
                        "text/plain": [
                            "       study_hours  student_marks\n",
                            "count   195.000000      200.00000\n",
                            "mean      6.995949       77.93375\n",
                            "std       1.253060        4.92570\n",
                            "min       5.010000       68.57000\n",
                            "25%       5.775000       73.38500\n",
                            "50%       7.120000       77.71000\n",
                            "75%       8.085000       82.32000\n",
                            "max       8.990000       86.99000"
                        ],
                        "text/html": [
                            "<div>\n",
                            "<style scoped>\n",
                            "    .dataframe tbody tr th:only-of-type {\n",
                            "        vertical-align: middle;\n",
                            "    }\n",
                            "\n",
                            "    .dataframe tbody tr th {\n",
                            "        vertical-align: top;\n",
                            "    }\n",
                            "\n",
                            "    .dataframe thead th {\n",
                            "        text-align: right;\n",
                            "    }\n",
                            "</style>\n",
                            "<table border=\"1\" class=\"dataframe\">\n",
                            "  <thead>\n",
                            "    <tr style=\"text-align: right;\">\n",
                            "      <th></th>\n",
                            "      <th>study_hours</th>\n",
                            "      <th>student_marks</th>\n",
                            "    </tr>\n",
                            "  </thead>\n",
                            "  <tbody>\n",
                            "    <tr>\n",
                            "      <th>count</th>\n",
                            "      <td>195.000000</td>\n",
                            "      <td>200.00000</td>\n",
                            "    </tr>\n",
                            "    <tr>\n",
                            "      <th>mean</th>\n",
                            "      <td>6.995949</td>\n",
                            "      <td>77.93375</td>\n",
                            "    </tr>\n",
                            "    <tr>\n",
                            "      <th>std</th>\n",
                            "      <td>1.253060</td>\n",
                            "      <td>4.92570</td>\n",
                            "    </tr>\n",
                            "    <tr>\n",
                            "      <th>min</th>\n",
                            "      <td>5.010000</td>\n",
                            "      <td>68.57000</td>\n",
                            "    </tr>\n",
                            "    <tr>\n",
                            "      <th>25%</th>\n",
                            "      <td>5.775000</td>\n",
                            "      <td>73.38500</td>\n",
                            "    </tr>\n",
                            "    <tr>\n",
                            "      <th>50%</th>\n",
                            "      <td>7.120000</td>\n",
                            "      <td>77.71000</td>\n",
                            "    </tr>\n",
                            "    <tr>\n",
                            "      <th>75%</th>\n",
                            "      <td>8.085000</td>\n",
                            "      <td>82.32000</td>\n",
                            "    </tr>\n",
                            "    <tr>\n",
                            "      <th>max</th>\n",
                            "      <td>8.990000</td>\n",
                            "      <td>86.99000</td>\n",
                            "    </tr>\n",
                            "  </tbody>\n",
                            "</table>\n",
                            "</div>"
                        ]
                    },
                    "metadata": {},
                    "execution_count": 7
                }
            ],
            "metadata": {}
        },
        {
            "cell_type": "code",
            "execution_count": 8,
            "source": [
                "plt.scatter(x=data.study_hours,y=data.student_marks)\r\n",
                "plt.xlabel(\"Study Hours\")\r\n",
                "plt.ylabel(\"Study Time\")\r\n",
                "plt.title(\"Study Hours Vs Student Marks \")\r\n",
                "plt.show()"
            ],
            "outputs": [
                {
                    "output_type": "display_data",
                    "data": {
                        "text/plain": [
                            "<Figure size 432x288 with 1 Axes>"
                        ],
                        "image/svg+xml": "<?xml version=\"1.0\" encoding=\"utf-8\" standalone=\"no\"?>\r\n<!DOCTYPE svg PUBLIC \"-//W3C//DTD SVG 1.1//EN\"\r\n  \"http://www.w3.org/Graphics/SVG/1.1/DTD/svg11.dtd\">\r\n<svg height=\"277.314375pt\" version=\"1.1\" viewBox=\"0 0 392.14375 277.314375\" width=\"392.14375pt\" xmlns=\"http://www.w3.org/2000/svg\" xmlns:xlink=\"http://www.w3.org/1999/xlink\">\r\n <metadata>\r\n  <rdf:RDF xmlns:cc=\"http://creativecommons.org/ns#\" xmlns:dc=\"http://purl.org/dc/elements/1.1/\" xmlns:rdf=\"http://www.w3.org/1999/02/22-rdf-syntax-ns#\">\r\n   <cc:Work>\r\n    <dc:type rdf:resource=\"http://purl.org/dc/dcmitype/StillImage\"/>\r\n    <dc:date>2021-08-10T17:56:27.129509</dc:date>\r\n    <dc:format>image/svg+xml</dc:format>\r\n    <dc:creator>\r\n     <cc:Agent>\r\n      <dc:title>Matplotlib v3.4.2, https://matplotlib.org/</dc:title>\r\n     </cc:Agent>\r\n    </dc:creator>\r\n   </cc:Work>\r\n  </rdf:RDF>\r\n </metadata>\r\n <defs>\r\n  <style type=\"text/css\">*{stroke-linecap:butt;stroke-linejoin:round;}</style>\r\n </defs>\r\n <g id=\"figure_1\">\r\n  <g id=\"patch_1\">\r\n   <path d=\"M 0 277.314375 \r\nL 392.14375 277.314375 \r\nL 392.14375 0 \r\nL 0 0 \r\nz\r\n\" style=\"fill:none;\"/>\r\n  </g>\r\n  <g id=\"axes_1\">\r\n   <g id=\"patch_2\">\r\n    <path d=\"M 50.14375 239.758125 \r\nL 384.94375 239.758125 \r\nL 384.94375 22.318125 \r\nL 50.14375 22.318125 \r\nz\r\n\" style=\"fill:#ffffff;\"/>\r\n   </g>\r\n   <g id=\"PathCollection_1\">\r\n    <defs>\r\n     <path d=\"M 0 3 \r\nC 0.795609 3 1.55874 2.683901 2.12132 2.12132 \r\nC 2.683901 1.55874 3 0.795609 3 0 \r\nC 3 -0.795609 2.683901 -1.55874 2.12132 -2.12132 \r\nC 1.55874 -2.683901 0.795609 -3 0 -3 \r\nC -0.795609 -3 -1.55874 -2.683901 -2.12132 -2.12132 \r\nC -2.683901 -1.55874 -3 -0.795609 -3 0 \r\nC -3 0.795609 -2.683901 1.55874 -2.12132 2.12132 \r\nC -1.55874 2.683901 -0.795609 3 0 3 \r\nz\r\n\" id=\"mf760a2c4a3\" style=\"stroke:#1f77b4;\"/>\r\n    </defs>\r\n    <g clip-path=\"url(#pae5ff21a68)\">\r\n     <use style=\"fill:#1f77b4;stroke:#1f77b4;\" x=\"204.543293\" xlink:href=\"#mf760a2c4a3\" y=\"123.311504\"/>\r\n     <use style=\"fill:#1f77b4;stroke:#1f77b4;\" x=\"183.895509\" xlink:href=\"#mf760a2c4a3\" y=\"142.1988\"/>\r\n     <use style=\"fill:#1f77b4;stroke:#1f77b4;\" x=\"115.834294\" xlink:href=\"#mf760a2c4a3\" y=\"194.997379\"/>\r\n     <use style=\"fill:#1f77b4;stroke:#1f77b4;\" x=\"345.25412\" xlink:href=\"#mf760a2c4a3\" y=\"62.249733\"/>\r\n     <use style=\"fill:#1f77b4;stroke:#1f77b4;\" x=\"259.604052\" xlink:href=\"#mf760a2c4a3\" y=\"94.551302\"/>\r\n     <use style=\"fill:#1f77b4;stroke:#1f77b4;\" x=\"192.307569\" xlink:href=\"#mf760a2c4a3\" y=\"139.515946\"/>\r\n     <use style=\"fill:#1f77b4;stroke:#1f77b4;\" x=\"369.725568\" xlink:href=\"#mf760a2c4a3\" y=\"48.620832\"/>\r\n     <use style=\"fill:#1f77b4;stroke:#1f77b4;\" x=\"79.127121\" xlink:href=\"#mf760a2c4a3\" y=\"207.445824\"/>\r\n     <use style=\"fill:#1f77b4;stroke:#1f77b4;\" x=\"198.425431\" xlink:href=\"#mf760a2c4a3\" y=\"130.608868\"/>\r\n     <use style=\"fill:#1f77b4;stroke:#1f77b4;\" x=\"186.189707\" xlink:href=\"#mf760a2c4a3\" y=\"156.900843\"/>\r\n     <use style=\"fill:#1f77b4;stroke:#1f77b4;\" x=\"336.84206\" xlink:href=\"#mf760a2c4a3\" y=\"65.576473\"/>\r\n     <use style=\"fill:#1f77b4;stroke:#1f77b4;\" x=\"274.898707\" xlink:href=\"#mf760a2c4a3\" y=\"112.580085\"/>\r\n     <use style=\"fill:#1f77b4;stroke:#1f77b4;\" x=\"286.369698\" xlink:href=\"#mf760a2c4a3\" y=\"99.058498\"/>\r\n     <use style=\"fill:#1f77b4;stroke:#1f77b4;\" x=\"308.546948\" xlink:href=\"#mf760a2c4a3\" y=\"74.161607\"/>\r\n     <use style=\"fill:#1f77b4;stroke:#1f77b4;\" x=\"183.130776\" xlink:href=\"#mf760a2c4a3\" y=\"149.818107\"/>\r\n     <use style=\"fill:#1f77b4;stroke:#1f77b4;\" x=\"168.600854\" xlink:href=\"#mf760a2c4a3\" y=\"149.710793\"/>\r\n     <use style=\"fill:#1f77b4;stroke:#1f77b4;\" x=\"327.665267\" xlink:href=\"#mf760a2c4a3\" y=\"52.376828\"/>\r\n     <use style=\"fill:#1f77b4;stroke:#1f77b4;\" x=\"325.371068\" xlink:href=\"#mf760a2c4a3\" y=\"80.38583\"/>\r\n     <use style=\"fill:#1f77b4;stroke:#1f77b4;\" x=\"268.780845\" xlink:href=\"#mf760a2c4a3\" y=\"100.990153\"/>\r\n     <use style=\"fill:#1f77b4;stroke:#1f77b4;\" x=\"249.662526\" xlink:href=\"#mf760a2c4a3\" y=\"83.819884\"/>\r\n     <use style=\"fill:#1f77b4;stroke:#1f77b4;\" x=\"306.25275\" xlink:href=\"#mf760a2c4a3\" y=\"71.15681\"/>\r\n     <use style=\"fill:#1f77b4;stroke:#1f77b4;\" x=\"68.420863\" xlink:href=\"#mf760a2c4a3\" y=\"207.33851\"/>\r\n     <use style=\"fill:#1f77b4;stroke:#1f77b4;\" x=\"129.599483\" xlink:href=\"#mf760a2c4a3\" y=\"160.65684\"/>\r\n     <use style=\"fill:#1f77b4;stroke:#1f77b4;\" x=\"99.010173\" xlink:href=\"#mf760a2c4a3\" y=\"204.226399\"/>\r\n     <use style=\"fill:#1f77b4;stroke:#1f77b4;\" x=\"290.958094\" xlink:href=\"#mf760a2c4a3\" y=\"71.478753\"/>\r\n     <use style=\"fill:#1f77b4;stroke:#1f77b4;\" x=\"180.071845\" xlink:href=\"#mf760a2c4a3\" y=\"163.554323\"/>\r\n     <use style=\"fill:#1f77b4;stroke:#1f77b4;\" x=\"196.895966\" xlink:href=\"#mf760a2c4a3\" y=\"153.896046\"/>\r\n     <use style=\"fill:#1f77b4;stroke:#1f77b4;\" x=\"136.482078\" xlink:href=\"#mf760a2c4a3\" y=\"169.993174\"/>\r\n     <use style=\"fill:#1f77b4;stroke:#1f77b4;\" x=\"254.250922\" xlink:href=\"#mf760a2c4a3\" y=\"105.390035\"/>\r\n     <use style=\"fill:#1f77b4;stroke:#1f77b4;\" x=\"303.958551\" xlink:href=\"#mf760a2c4a3\" y=\"82.854056\"/>\r\n     <use style=\"fill:#1f77b4;stroke:#1f77b4;\" x=\"95.186509\" xlink:href=\"#mf760a2c4a3\" y=\"202.724\"/>\r\n     <use style=\"fill:#1f77b4;stroke:#1f77b4;\" x=\"353.66618\" xlink:href=\"#mf760a2c4a3\" y=\"60.532706\"/>\r\n     <use style=\"fill:#1f77b4;stroke:#1f77b4;\" x=\"349.077784\" xlink:href=\"#mf760a2c4a3\" y=\"74.161607\"/>\r\n     <use style=\"fill:#1f77b4;stroke:#1f77b4;\" x=\"225.191078\" xlink:href=\"#mf760a2c4a3\" y=\"141.984172\"/>\r\n     <use style=\"fill:#1f77b4;stroke:#1f77b4;\" x=\"283.310767\" xlink:href=\"#mf760a2c4a3\" y=\"93.907417\"/>\r\n     <use style=\"fill:#1f77b4;stroke:#1f77b4;\" x=\"232.073672\" xlink:href=\"#mf760a2c4a3\" y=\"126.423615\"/>\r\n     <use style=\"fill:#1f77b4;stroke:#1f77b4;\" x=\"112.01063\" xlink:href=\"#mf760a2c4a3\" y=\"181.475792\"/>\r\n     <use style=\"fill:#1f77b4;stroke:#1f77b4;\" x=\"284.840232\" xlink:href=\"#mf760a2c4a3\" y=\"72.551895\"/>\r\n     <use style=\"fill:#1f77b4;stroke:#1f77b4;\" x=\"86.009716\" xlink:href=\"#mf760a2c4a3\" y=\"211.631077\"/>\r\n     <use style=\"fill:#1f77b4;stroke:#1f77b4;\" x=\"364.372439\" xlink:href=\"#mf760a2c4a3\" y=\"38.425984\"/>\r\n     <use style=\"fill:#1f77b4;stroke:#1f77b4;\" x=\"99.774906\" xlink:href=\"#mf760a2c4a3\" y=\"202.724\"/>\r\n     <use style=\"fill:#1f77b4;stroke:#1f77b4;\" x=\"316.959008\" xlink:href=\"#mf760a2c4a3\" y=\"76.737148\"/>\r\n     <use style=\"fill:#1f77b4;stroke:#1f77b4;\" x=\"300.89962\" xlink:href=\"#mf760a2c4a3\" y=\"81.6736\"/>\r\n     <use style=\"fill:#1f77b4;stroke:#1f77b4;\" x=\"154.835664\" xlink:href=\"#mf760a2c4a3\" y=\"182.763562\"/>\r\n     <use style=\"fill:#1f77b4;stroke:#1f77b4;\" x=\"218.308483\" xlink:href=\"#mf760a2c4a3\" y=\"134.472179\"/>\r\n     <use style=\"fill:#1f77b4;stroke:#1f77b4;\" x=\"65.361932\" xlink:href=\"#mf760a2c4a3\" y=\"213.348104\"/>\r\n     <use style=\"fill:#1f77b4;stroke:#1f77b4;\" x=\"105.892768\" xlink:href=\"#mf760a2c4a3\" y=\"188.987784\"/>\r\n     <use style=\"fill:#1f77b4;stroke:#1f77b4;\" x=\"71.479794\" xlink:href=\"#mf760a2c4a3\" y=\"199.39726\"/>\r\n     <use style=\"fill:#1f77b4;stroke:#1f77b4;\" x=\"71.479794\" xlink:href=\"#mf760a2c4a3\" y=\"190.704811\"/>\r\n     <use style=\"fill:#1f77b4;stroke:#1f77b4;\" x=\"241.250465\" xlink:href=\"#mf760a2c4a3\" y=\"131.145439\"/>\r\n     <use style=\"fill:#1f77b4;stroke:#1f77b4;\" x=\"348.313051\" xlink:href=\"#mf760a2c4a3\" y=\"59.566878\"/>\r\n     <use style=\"fill:#1f77b4;stroke:#1f77b4;\" x=\"104.363302\" xlink:href=\"#mf760a2c4a3\" y=\"198.968004\"/>\r\n     <use style=\"fill:#1f77b4;stroke:#1f77b4;\" x=\"352.136715\" xlink:href=\"#mf760a2c4a3\" y=\"83.497941\"/>\r\n     <use style=\"fill:#1f77b4;stroke:#1f77b4;\" x=\"346.783586\" xlink:href=\"#mf760a2c4a3\" y=\"48.406203\"/>\r\n     <use style=\"fill:#1f77b4;stroke:#1f77b4;\" x=\"121.952156\" xlink:href=\"#mf760a2c4a3\" y=\"160.549526\"/>\r\n     <use style=\"fill:#1f77b4;stroke:#1f77b4;\" x=\"365.137172\" xlink:href=\"#mf760a2c4a3\" y=\"35.850444\"/>\r\n     <use style=\"fill:#1f77b4;stroke:#1f77b4;\" x=\"94.421776\" xlink:href=\"#mf760a2c4a3\" y=\"204.870284\"/>\r\n     <use style=\"fill:#1f77b4;stroke:#1f77b4;\" x=\"114.304828\" xlink:href=\"#mf760a2c4a3\" y=\"196.285149\"/>\r\n     <use style=\"fill:#1f77b4;stroke:#1f77b4;\" x=\"102.069104\" xlink:href=\"#mf760a2c4a3\" y=\"175.78814\"/>\r\n     <use style=\"fill:#1f77b4;stroke:#1f77b4;\" x=\"237.426802\" xlink:href=\"#mf760a2c4a3\" y=\"113.545913\"/>\r\n     <use style=\"fill:#1f77b4;stroke:#1f77b4;\" x=\"167.836121\" xlink:href=\"#mf760a2c4a3\" y=\"148.10108\"/>\r\n     <use style=\"fill:#1f77b4;stroke:#1f77b4;\" x=\"272.604508\" xlink:href=\"#mf760a2c4a3\" y=\"102.599866\"/>\r\n     <use style=\"fill:#1f77b4;stroke:#1f77b4;\" x=\"361.313508\" xlink:href=\"#mf760a2c4a3\" y=\"45.186778\"/>\r\n     <use style=\"fill:#1f77b4;stroke:#1f77b4;\" x=\"99.010173\" xlink:href=\"#mf760a2c4a3\" y=\"213.884675\"/>\r\n     <use style=\"fill:#1f77b4;stroke:#1f77b4;\" x=\"283.310767\" xlink:href=\"#mf760a2c4a3\" y=\"93.800103\"/>\r\n     <use style=\"fill:#1f77b4;stroke:#1f77b4;\" x=\"313.900077\" xlink:href=\"#mf760a2c4a3\" y=\"88.970965\"/>\r\n     <use style=\"fill:#1f77b4;stroke:#1f77b4;\" x=\"69.950328\" xlink:href=\"#mf760a2c4a3\" y=\"222.362496\"/>\r\n     <use style=\"fill:#1f77b4;stroke:#1f77b4;\" x=\"313.135344\" xlink:href=\"#mf760a2c4a3\" y=\"77.273719\"/>\r\n     <use style=\"fill:#1f77b4;stroke:#1f77b4;\" x=\"92.892311\" xlink:href=\"#mf760a2c4a3\" y=\"195.212007\"/>\r\n     <use style=\"fill:#1f77b4;stroke:#1f77b4;\" x=\"73.009259\" xlink:href=\"#mf760a2c4a3\" y=\"195.319321\"/>\r\n     <use style=\"fill:#1f77b4;stroke:#1f77b4;\" x=\"167.836121\" xlink:href=\"#mf760a2c4a3\" y=\"161.193411\"/>\r\n     <use style=\"fill:#1f77b4;stroke:#1f77b4;\" x=\"248.897793\" xlink:href=\"#mf760a2c4a3\" y=\"122.131048\"/>\r\n     <use style=\"fill:#1f77b4;stroke:#1f77b4;\" x=\"241.250465\" xlink:href=\"#mf760a2c4a3\" y=\"133.077094\"/>\r\n     <use style=\"fill:#1f77b4;stroke:#1f77b4;\" x=\"144.129406\" xlink:href=\"#mf760a2c4a3\" y=\"189.524355\"/>\r\n     <use style=\"fill:#1f77b4;stroke:#1f77b4;\" x=\"73.009259\" xlink:href=\"#mf760a2c4a3\" y=\"192.20721\"/>\r\n     <use style=\"fill:#1f77b4;stroke:#1f77b4;\" x=\"183.895509\" xlink:href=\"#mf760a2c4a3\" y=\"135.867263\"/>\r\n     <use style=\"fill:#1f77b4;stroke:#1f77b4;\" x=\"71.479794\" xlink:href=\"#mf760a2c4a3\" y=\"213.991989\"/>\r\n     <use style=\"fill:#1f77b4;stroke:#1f77b4;\" x=\"131.893681\" xlink:href=\"#mf760a2c4a3\" y=\"178.685623\"/>\r\n     <use style=\"fill:#1f77b4;stroke:#1f77b4;\" x=\"320.017939\" xlink:href=\"#mf760a2c4a3\" y=\"64.288702\"/>\r\n     <use style=\"fill:#1f77b4;stroke:#1f77b4;\" x=\"289.428629\" xlink:href=\"#mf760a2c4a3\" y=\"75.77132\"/>\r\n     <use style=\"fill:#1f77b4;stroke:#1f77b4;\" x=\"191.542836\" xlink:href=\"#mf760a2c4a3\" y=\"143.379256\"/>\r\n     <use style=\"fill:#1f77b4;stroke:#1f77b4;\" x=\"141.835207\" xlink:href=\"#mf760a2c4a3\" y=\"157.008158\"/>\r\n     <use style=\"fill:#1f77b4;stroke:#1f77b4;\" x=\"208.366957\" xlink:href=\"#mf760a2c4a3\" y=\"136.29652\"/>\r\n     <use style=\"fill:#1f77b4;stroke:#1f77b4;\" x=\"112.775363\" xlink:href=\"#mf760a2c4a3\" y=\"183.729389\"/>\r\n     <use style=\"fill:#1f77b4;stroke:#1f77b4;\" x=\"131.893681\" xlink:href=\"#mf760a2c4a3\" y=\"178.041738\"/>\r\n     <use style=\"fill:#1f77b4;stroke:#1f77b4;\" x=\"297.840689\" xlink:href=\"#mf760a2c4a3\" y=\"88.541708\"/>\r\n     <use style=\"fill:#1f77b4;stroke:#1f77b4;\" x=\"89.83338\" xlink:href=\"#mf760a2c4a3\" y=\"194.675436\"/>\r\n     <use style=\"fill:#1f77b4;stroke:#1f77b4;\" x=\"354.430913\" xlink:href=\"#mf760a2c4a3\" y=\"57.849851\"/>\r\n     <use style=\"fill:#1f77b4;stroke:#1f77b4;\" x=\"257.309853\" xlink:href=\"#mf760a2c4a3\" y=\"111.9362\"/>\r\n     <use style=\"fill:#1f77b4;stroke:#1f77b4;\" x=\"309.311681\" xlink:href=\"#mf760a2c4a3\" y=\"84.678397\"/>\r\n     <use style=\"fill:#1f77b4;stroke:#1f77b4;\" x=\"98.24544\" xlink:href=\"#mf760a2c4a3\" y=\"192.20721\"/>\r\n     <use style=\"fill:#1f77b4;stroke:#1f77b4;\" x=\"286.369698\" xlink:href=\"#mf760a2c4a3\" y=\"116.872653\"/>\r\n     <use style=\"fill:#1f77b4;stroke:#1f77b4;\" x=\"270.31031\" xlink:href=\"#mf760a2c4a3\" y=\"96.375644\"/>\r\n     <use style=\"fill:#1f77b4;stroke:#1f77b4;\" x=\"147.953069\" xlink:href=\"#mf760a2c4a3\" y=\"144.988969\"/>\r\n     <use style=\"fill:#1f77b4;stroke:#1f77b4;\" x=\"79.891854\" xlink:href=\"#mf760a2c4a3\" y=\"229.874489\"/>\r\n     <use style=\"fill:#1f77b4;stroke:#1f77b4;\" x=\"361.313508\" xlink:href=\"#mf760a2c4a3\" y=\"68.152013\"/>\r\n     <use style=\"fill:#1f77b4;stroke:#1f77b4;\" x=\"299.370155\" xlink:href=\"#mf760a2c4a3\" y=\"82.532114\"/>\r\n     <use style=\"fill:#1f77b4;stroke:#1f77b4;\" x=\"159.424061\" xlink:href=\"#mf760a2c4a3\" y=\"158.939813\"/>\r\n     <use style=\"fill:#1f77b4;stroke:#1f77b4;\" x=\"290.193362\" xlink:href=\"#mf760a2c4a3\" y=\"85.429597\"/>\r\n     <use style=\"fill:#1f77b4;stroke:#1f77b4;\" x=\"313.900077\" xlink:href=\"#mf760a2c4a3\" y=\"75.127435\"/>\r\n     <use style=\"fill:#1f77b4;stroke:#1f77b4;\" x=\"241.250465\" xlink:href=\"#mf760a2c4a3\" y=\"115.155626\"/>\r\n     <use style=\"fill:#1f77b4;stroke:#1f77b4;\" x=\"235.132603\" xlink:href=\"#mf760a2c4a3\" y=\"133.506351\"/>\r\n     <use style=\"fill:#1f77b4;stroke:#1f77b4;\" x=\"176.248181\" xlink:href=\"#mf760a2c4a3\" y=\"138.657432\"/>\r\n     <use style=\"fill:#1f77b4;stroke:#1f77b4;\" x=\"90.598113\" xlink:href=\"#mf760a2c4a3\" y=\"191.992582\"/>\r\n     <use style=\"fill:#1f77b4;stroke:#1f77b4;\" x=\"119.657957\" xlink:href=\"#mf760a2c4a3\" y=\"179.65145\"/>\r\n     <use style=\"fill:#1f77b4;stroke:#1f77b4;\" x=\"128.83475\" xlink:href=\"#mf760a2c4a3\" y=\"168.920032\"/>\r\n     <use style=\"fill:#1f77b4;stroke:#1f77b4;\" x=\"66.126665\" xlink:href=\"#mf760a2c4a3\" y=\"208.304338\"/>\r\n     <use style=\"fill:#1f77b4;stroke:#1f77b4;\" x=\"292.48756\" xlink:href=\"#mf760a2c4a3\" y=\"95.624444\"/>\r\n     <use style=\"fill:#1f77b4;stroke:#1f77b4;\" x=\"169.365586\" xlink:href=\"#mf760a2c4a3\" y=\"160.442211\"/>\r\n     <use style=\"fill:#1f77b4;stroke:#1f77b4;\" x=\"211.425888\" xlink:href=\"#mf760a2c4a3\" y=\"146.062111\"/>\r\n     <use style=\"fill:#1f77b4;stroke:#1f77b4;\" x=\"290.193362\" xlink:href=\"#mf760a2c4a3\" y=\"97.985356\"/>\r\n     <use style=\"fill:#1f77b4;stroke:#1f77b4;\" x=\"226.720543\" xlink:href=\"#mf760a2c4a3\" y=\"124.170017\"/>\r\n     <use style=\"fill:#1f77b4;stroke:#1f77b4;\" x=\"125.011087\" xlink:href=\"#mf760a2c4a3\" y=\"166.881063\"/>\r\n     <use style=\"fill:#1f77b4;stroke:#1f77b4;\" x=\"95.186509\" xlink:href=\"#mf760a2c4a3\" y=\"210.879878\"/>\r\n     <use style=\"fill:#1f77b4;stroke:#1f77b4;\" x=\"357.489844\" xlink:href=\"#mf760a2c4a3\" y=\"53.128027\"/>\r\n     <use style=\"fill:#1f77b4;stroke:#1f77b4;\" x=\"117.363759\" xlink:href=\"#mf760a2c4a3\" y=\"175.78814\"/>\r\n     <use style=\"fill:#1f77b4;stroke:#1f77b4;\" x=\"186.95444\" xlink:href=\"#mf760a2c4a3\" y=\"154.969188\"/>\r\n     <use style=\"fill:#1f77b4;stroke:#1f77b4;\" x=\"180.836578\" xlink:href=\"#mf760a2c4a3\" y=\"147.993766\"/>\r\n     <use style=\"fill:#1f77b4;stroke:#1f77b4;\" x=\"317.723741\" xlink:href=\"#mf760a2c4a3\" y=\"78.346861\"/>\r\n     <use style=\"fill:#1f77b4;stroke:#1f77b4;\" x=\"264.957181\" xlink:href=\"#mf760a2c4a3\" y=\"112.258143\"/>\r\n     <use style=\"fill:#1f77b4;stroke:#1f77b4;\" x=\"346.783586\" xlink:href=\"#mf760a2c4a3\" y=\"68.903212\"/>\r\n     <use style=\"fill:#1f77b4;stroke:#1f77b4;\" x=\"351.371982\" xlink:href=\"#mf760a2c4a3\" y=\"43.362437\"/>\r\n     <use style=\"fill:#1f77b4;stroke:#1f77b4;\" x=\"176.248181\" xlink:href=\"#mf760a2c4a3\" y=\"149.925421\"/>\r\n     <use style=\"fill:#1f77b4;stroke:#1f77b4;\" x=\"228.250009\" xlink:href=\"#mf760a2c4a3\" y=\"132.433209\"/>\r\n     <use style=\"fill:#1f77b4;stroke:#1f77b4;\" x=\"170.130319\" xlink:href=\"#mf760a2c4a3\" y=\"139.301317\"/>\r\n     <use style=\"fill:#1f77b4;stroke:#1f77b4;\" x=\"166.306655\" xlink:href=\"#mf760a2c4a3\" y=\"166.344492\"/>\r\n     <use style=\"fill:#1f77b4;stroke:#1f77b4;\" x=\"113.540095\" xlink:href=\"#mf760a2c4a3\" y=\"180.295336\"/>\r\n     <use style=\"fill:#1f77b4;stroke:#1f77b4;\" x=\"84.480251\" xlink:href=\"#mf760a2c4a3\" y=\"194.568122\"/>\r\n     <use style=\"fill:#1f77b4;stroke:#1f77b4;\" x=\"204.543293\" xlink:href=\"#mf760a2c4a3\" y=\"152.286333\"/>\r\n     <use style=\"fill:#1f77b4;stroke:#1f77b4;\" x=\"122.716888\" xlink:href=\"#mf760a2c4a3\" y=\"188.129271\"/>\r\n     <use style=\"fill:#1f77b4;stroke:#1f77b4;\" x=\"180.071845\" xlink:href=\"#mf760a2c4a3\" y=\"124.49196\"/>\r\n     <use style=\"fill:#1f77b4;stroke:#1f77b4;\" x=\"319.253206\" xlink:href=\"#mf760a2c4a3\" y=\"69.86904\"/>\r\n     <use style=\"fill:#1f77b4;stroke:#1f77b4;\" x=\"306.25275\" xlink:href=\"#mf760a2c4a3\" y=\"73.410408\"/>\r\n     <use style=\"fill:#1f77b4;stroke:#1f77b4;\" x=\"75.303458\" xlink:href=\"#mf760a2c4a3\" y=\"201.43623\"/>\r\n     <use style=\"fill:#1f77b4;stroke:#1f77b4;\" x=\"348.313051\" xlink:href=\"#mf760a2c4a3\" y=\"43.040494\"/>\r\n     <use style=\"fill:#1f77b4;stroke:#1f77b4;\" x=\"339.900991\" xlink:href=\"#mf760a2c4a3\" y=\"65.25453\"/>\r\n     <use style=\"fill:#1f77b4;stroke:#1f77b4;\" x=\"339.900991\" xlink:href=\"#mf760a2c4a3\" y=\"58.06448\"/>\r\n     <use style=\"fill:#1f77b4;stroke:#1f77b4;\" x=\"250.427258\" xlink:href=\"#mf760a2c4a3\" y=\"103.887636\"/>\r\n     <use style=\"fill:#1f77b4;stroke:#1f77b4;\" x=\"279.487103\" xlink:href=\"#mf760a2c4a3\" y=\"79.849259\"/>\r\n     <use style=\"fill:#1f77b4;stroke:#1f77b4;\" x=\"180.071845\" xlink:href=\"#mf760a2c4a3\" y=\"155.291131\"/>\r\n     <use style=\"fill:#1f77b4;stroke:#1f77b4;\" x=\"302.429086\" xlink:href=\"#mf760a2c4a3\" y=\"66.220358\"/>\r\n     <use style=\"fill:#1f77b4;stroke:#1f77b4;\" x=\"366.666637\" xlink:href=\"#mf760a2c4a3\" y=\"51.947571\"/>\r\n     <use style=\"fill:#1f77b4;stroke:#1f77b4;\" x=\"293.252293\" xlink:href=\"#mf760a2c4a3\" y=\"77.702975\"/>\r\n     <use style=\"fill:#1f77b4;stroke:#1f77b4;\" x=\"134.952612\" xlink:href=\"#mf760a2c4a3\" y=\"167.954204\"/>\r\n     <use style=\"fill:#1f77b4;stroke:#1f77b4;\" x=\"316.959008\" xlink:href=\"#mf760a2c4a3\" y=\"85.536911\"/>\r\n     <use style=\"fill:#1f77b4;stroke:#1f77b4;\" x=\"368.196103\" xlink:href=\"#mf760a2c4a3\" y=\"41.538095\"/>\r\n     <use style=\"fill:#1f77b4;stroke:#1f77b4;\" x=\"94.421776\" xlink:href=\"#mf760a2c4a3\" y=\"194.460808\"/>\r\n     <use style=\"fill:#1f77b4;stroke:#1f77b4;\" x=\"199.954897\" xlink:href=\"#mf760a2c4a3\" y=\"142.628057\"/>\r\n     <use style=\"fill:#1f77b4;stroke:#1f77b4;\" x=\"300.134888\" xlink:href=\"#mf760a2c4a3\" y=\"88.970965\"/>\r\n     <use style=\"fill:#1f77b4;stroke:#1f77b4;\" x=\"82.950785\" xlink:href=\"#mf760a2c4a3\" y=\"206.158054\"/>\r\n     <use style=\"fill:#1f77b4;stroke:#1f77b4;\" x=\"212.190621\" xlink:href=\"#mf760a2c4a3\" y=\"123.848075\"/>\r\n     <use style=\"fill:#1f77b4;stroke:#1f77b4;\" x=\"75.303458\" xlink:href=\"#mf760a2c4a3\" y=\"212.382277\"/>\r\n     <use style=\"fill:#1f77b4;stroke:#1f77b4;\" x=\"323.841603\" xlink:href=\"#mf760a2c4a3\" y=\"71.049496\"/>\r\n     <use style=\"fill:#1f77b4;stroke:#1f77b4;\" x=\"154.835664\" xlink:href=\"#mf760a2c4a3\" y=\"155.291131\"/>\r\n     <use style=\"fill:#1f77b4;stroke:#1f77b4;\" x=\"258.074586\" xlink:href=\"#mf760a2c4a3\" y=\"90.366049\"/>\r\n     <use style=\"fill:#1f77b4;stroke:#1f77b4;\" x=\"283.310767\" xlink:href=\"#mf760a2c4a3\" y=\"99.487755\"/>\r\n     <use style=\"fill:#1f77b4;stroke:#1f77b4;\" x=\"271.075043\" xlink:href=\"#mf760a2c4a3\" y=\"98.521927\"/>\r\n     <use style=\"fill:#1f77b4;stroke:#1f77b4;\" x=\"240.485733\" xlink:href=\"#mf760a2c4a3\" y=\"112.6874\"/>\r\n     <use style=\"fill:#1f77b4;stroke:#1f77b4;\" x=\"277.957638\" xlink:href=\"#mf760a2c4a3\" y=\"116.121453\"/>\r\n     <use style=\"fill:#1f77b4;stroke:#1f77b4;\" x=\"198.425431\" xlink:href=\"#mf760a2c4a3\" y=\"138.657432\"/>\r\n     <use style=\"fill:#1f77b4;stroke:#1f77b4;\" x=\"284.0755\" xlink:href=\"#mf760a2c4a3\" y=\"85.322283\"/>\r\n     <use style=\"fill:#1f77b4;stroke:#1f77b4;\" x=\"93.657044\" xlink:href=\"#mf760a2c4a3\" y=\"193.709609\"/>\r\n     <use style=\"fill:#1f77b4;stroke:#1f77b4;\" x=\"278.72237\" xlink:href=\"#mf760a2c4a3\" y=\"90.044107\"/>\r\n     <use style=\"fill:#1f77b4;stroke:#1f77b4;\" x=\"69.950328\" xlink:href=\"#mf760a2c4a3\" y=\"206.05074\"/>\r\n     <use style=\"fill:#1f77b4;stroke:#1f77b4;\" x=\"290.193362\" xlink:href=\"#mf760a2c4a3\" y=\"78.454175\"/>\r\n     <use style=\"fill:#1f77b4;stroke:#1f77b4;\" x=\"320.782672\" xlink:href=\"#mf760a2c4a3\" y=\"74.161607\"/>\r\n     <use style=\"fill:#1f77b4;stroke:#1f77b4;\" x=\"79.127121\" xlink:href=\"#mf760a2c4a3\" y=\"201.865487\"/>\r\n     <use style=\"fill:#1f77b4;stroke:#1f77b4;\" x=\"232.073672\" xlink:href=\"#mf760a2c4a3\" y=\"132.647838\"/>\r\n     <use style=\"fill:#1f77b4;stroke:#1f77b4;\" x=\"244.309396\" xlink:href=\"#mf760a2c4a3\" y=\"131.038125\"/>\r\n     <use style=\"fill:#1f77b4;stroke:#1f77b4;\" x=\"81.42132\" xlink:href=\"#mf760a2c4a3\" y=\"210.235993\"/>\r\n     <use style=\"fill:#1f77b4;stroke:#1f77b4;\" x=\"94.421776\" xlink:href=\"#mf760a2c4a3\" y=\"182.119677\"/>\r\n     <use style=\"fill:#1f77b4;stroke:#1f77b4;\" x=\"94.421776\" xlink:href=\"#mf760a2c4a3\" y=\"202.616686\"/>\r\n     <use style=\"fill:#1f77b4;stroke:#1f77b4;\" x=\"365.137172\" xlink:href=\"#mf760a2c4a3\" y=\"43.255122\"/>\r\n     <use style=\"fill:#1f77b4;stroke:#1f77b4;\" x=\"125.011087\" xlink:href=\"#mf760a2c4a3\" y=\"175.466197\"/>\r\n     <use style=\"fill:#1f77b4;stroke:#1f77b4;\" x=\"326.135801\" xlink:href=\"#mf760a2c4a3\" y=\"61.713162\"/>\r\n     <use style=\"fill:#1f77b4;stroke:#1f77b4;\" x=\"237.426802\" xlink:href=\"#mf760a2c4a3\" y=\"126.852872\"/>\r\n     <use style=\"fill:#1f77b4;stroke:#1f77b4;\" x=\"215.249552\" xlink:href=\"#mf760a2c4a3\" y=\"137.369662\"/>\r\n     <use style=\"fill:#1f77b4;stroke:#1f77b4;\" x=\"106.657501\" xlink:href=\"#mf760a2c4a3\" y=\"194.890065\"/>\r\n     <use style=\"fill:#1f77b4;stroke:#1f77b4;\" x=\"344.489387\" xlink:href=\"#mf760a2c4a3\" y=\"32.201761\"/>\r\n     <use style=\"fill:#1f77b4;stroke:#1f77b4;\" x=\"340.665724\" xlink:href=\"#mf760a2c4a3\" y=\"65.683787\"/>\r\n     <use style=\"fill:#1f77b4;stroke:#1f77b4;\" x=\"81.42132\" xlink:href=\"#mf760a2c4a3\" y=\"198.431433\"/>\r\n     <use style=\"fill:#1f77b4;stroke:#1f77b4;\" x=\"297.840689\" xlink:href=\"#mf760a2c4a3\" y=\"111.185001\"/>\r\n     <use style=\"fill:#1f77b4;stroke:#1f77b4;\" x=\"360.548775\" xlink:href=\"#mf760a2c4a3\" y=\"52.484142\"/>\r\n     <use style=\"fill:#1f77b4;stroke:#1f77b4;\" x=\"105.892768\" xlink:href=\"#mf760a2c4a3\" y=\"192.958409\"/>\r\n     <use style=\"fill:#1f77b4;stroke:#1f77b4;\" x=\"237.426802\" xlink:href=\"#mf760a2c4a3\" y=\"108.609461\"/>\r\n     <use style=\"fill:#1f77b4;stroke:#1f77b4;\" x=\"125.011087\" xlink:href=\"#mf760a2c4a3\" y=\"180.831906\"/>\r\n     <use style=\"fill:#1f77b4;stroke:#1f77b4;\" x=\"81.42132\" xlink:href=\"#mf760a2c4a3\" y=\"209.055537\"/>\r\n     <use style=\"fill:#1f77b4;stroke:#1f77b4;\" x=\"348.313051\" xlink:href=\"#mf760a2c4a3\" y=\"63.96676\"/>\r\n     <use style=\"fill:#1f77b4;stroke:#1f77b4;\" x=\"259.604052\" xlink:href=\"#mf760a2c4a3\" y=\"111.077687\"/>\r\n     <use style=\"fill:#1f77b4;stroke:#1f77b4;\" x=\"167.836121\" xlink:href=\"#mf760a2c4a3\" y=\"169.027346\"/>\r\n     <use style=\"fill:#1f77b4;stroke:#1f77b4;\" x=\"258.074586\" xlink:href=\"#mf760a2c4a3\" y=\"89.292907\"/>\r\n     <use style=\"fill:#1f77b4;stroke:#1f77b4;\" x=\"336.84206\" xlink:href=\"#mf760a2c4a3\" y=\"56.991338\"/>\r\n     <use style=\"fill:#1f77b4;stroke:#1f77b4;\" x=\"365.901904\" xlink:href=\"#mf760a2c4a3\" y=\"34.777302\"/>\r\n     <use style=\"fill:#1f77b4;stroke:#1f77b4;\" x=\"186.95444\" xlink:href=\"#mf760a2c4a3\" y=\"128.140642\"/>\r\n     <use style=\"fill:#1f77b4;stroke:#1f77b4;\" x=\"320.782672\" xlink:href=\"#mf760a2c4a3\" y=\"69.654412\"/>\r\n    </g>\r\n   </g>\r\n   <g id=\"matplotlib.axis_1\">\r\n    <g id=\"xtick_1\">\r\n     <g id=\"line2d_1\">\r\n      <defs>\r\n       <path d=\"M 0 0 \r\nL 0 3.5 \r\n\" id=\"m8b4823e7a8\" style=\"stroke:#000000;stroke-width:0.8;\"/>\r\n      </defs>\r\n      <g>\r\n       <use style=\"stroke:#000000;stroke-width:0.8;\" x=\"64.597199\" xlink:href=\"#m8b4823e7a8\" y=\"239.758125\"/>\r\n      </g>\r\n     </g>\r\n     <g id=\"text_1\">\r\n      <!-- 5.0 -->\r\n      <g transform=\"translate(56.645637 254.356562)scale(0.1 -0.1)\">\r\n       <defs>\r\n        <path d=\"M 691 4666 \r\nL 3169 4666 \r\nL 3169 4134 \r\nL 1269 4134 \r\nL 1269 2991 \r\nQ 1406 3038 1543 3061 \r\nQ 1681 3084 1819 3084 \r\nQ 2600 3084 3056 2656 \r\nQ 3513 2228 3513 1497 \r\nQ 3513 744 3044 326 \r\nQ 2575 -91 1722 -91 \r\nQ 1428 -91 1123 -41 \r\nQ 819 9 494 109 \r\nL 494 744 \r\nQ 775 591 1075 516 \r\nQ 1375 441 1709 441 \r\nQ 2250 441 2565 725 \r\nQ 2881 1009 2881 1497 \r\nQ 2881 1984 2565 2268 \r\nQ 2250 2553 1709 2553 \r\nQ 1456 2553 1204 2497 \r\nQ 953 2441 691 2322 \r\nL 691 4666 \r\nz\r\n\" id=\"DejaVuSans-35\" transform=\"scale(0.015625)\"/>\r\n        <path d=\"M 684 794 \r\nL 1344 794 \r\nL 1344 0 \r\nL 684 0 \r\nL 684 794 \r\nz\r\n\" id=\"DejaVuSans-2e\" transform=\"scale(0.015625)\"/>\r\n        <path d=\"M 2034 4250 \r\nQ 1547 4250 1301 3770 \r\nQ 1056 3291 1056 2328 \r\nQ 1056 1369 1301 889 \r\nQ 1547 409 2034 409 \r\nQ 2525 409 2770 889 \r\nQ 3016 1369 3016 2328 \r\nQ 3016 3291 2770 3770 \r\nQ 2525 4250 2034 4250 \r\nz\r\nM 2034 4750 \r\nQ 2819 4750 3233 4129 \r\nQ 3647 3509 3647 2328 \r\nQ 3647 1150 3233 529 \r\nQ 2819 -91 2034 -91 \r\nQ 1250 -91 836 529 \r\nQ 422 1150 422 2328 \r\nQ 422 3509 836 4129 \r\nQ 1250 4750 2034 4750 \r\nz\r\n\" id=\"DejaVuSans-30\" transform=\"scale(0.015625)\"/>\r\n       </defs>\r\n       <use xlink:href=\"#DejaVuSans-35\"/>\r\n       <use x=\"63.623047\" xlink:href=\"#DejaVuSans-2e\"/>\r\n       <use x=\"95.410156\" xlink:href=\"#DejaVuSans-30\"/>\r\n      </g>\r\n     </g>\r\n    </g>\r\n    <g id=\"xtick_2\">\r\n     <g id=\"line2d_2\">\r\n      <g>\r\n       <use style=\"stroke:#000000;stroke-width:0.8;\" x=\"102.833837\" xlink:href=\"#m8b4823e7a8\" y=\"239.758125\"/>\r\n      </g>\r\n     </g>\r\n     <g id=\"text_2\">\r\n      <!-- 5.5 -->\r\n      <g transform=\"translate(94.882274 254.356562)scale(0.1 -0.1)\">\r\n       <use xlink:href=\"#DejaVuSans-35\"/>\r\n       <use x=\"63.623047\" xlink:href=\"#DejaVuSans-2e\"/>\r\n       <use x=\"95.410156\" xlink:href=\"#DejaVuSans-35\"/>\r\n      </g>\r\n     </g>\r\n    </g>\r\n    <g id=\"xtick_3\">\r\n     <g id=\"line2d_3\">\r\n      <g>\r\n       <use style=\"stroke:#000000;stroke-width:0.8;\" x=\"141.070475\" xlink:href=\"#m8b4823e7a8\" y=\"239.758125\"/>\r\n      </g>\r\n     </g>\r\n     <g id=\"text_3\">\r\n      <!-- 6.0 -->\r\n      <g transform=\"translate(133.118912 254.356562)scale(0.1 -0.1)\">\r\n       <defs>\r\n        <path d=\"M 2113 2584 \r\nQ 1688 2584 1439 2293 \r\nQ 1191 2003 1191 1497 \r\nQ 1191 994 1439 701 \r\nQ 1688 409 2113 409 \r\nQ 2538 409 2786 701 \r\nQ 3034 994 3034 1497 \r\nQ 3034 2003 2786 2293 \r\nQ 2538 2584 2113 2584 \r\nz\r\nM 3366 4563 \r\nL 3366 3988 \r\nQ 3128 4100 2886 4159 \r\nQ 2644 4219 2406 4219 \r\nQ 1781 4219 1451 3797 \r\nQ 1122 3375 1075 2522 \r\nQ 1259 2794 1537 2939 \r\nQ 1816 3084 2150 3084 \r\nQ 2853 3084 3261 2657 \r\nQ 3669 2231 3669 1497 \r\nQ 3669 778 3244 343 \r\nQ 2819 -91 2113 -91 \r\nQ 1303 -91 875 529 \r\nQ 447 1150 447 2328 \r\nQ 447 3434 972 4092 \r\nQ 1497 4750 2381 4750 \r\nQ 2619 4750 2861 4703 \r\nQ 3103 4656 3366 4563 \r\nz\r\n\" id=\"DejaVuSans-36\" transform=\"scale(0.015625)\"/>\r\n       </defs>\r\n       <use xlink:href=\"#DejaVuSans-36\"/>\r\n       <use x=\"63.623047\" xlink:href=\"#DejaVuSans-2e\"/>\r\n       <use x=\"95.410156\" xlink:href=\"#DejaVuSans-30\"/>\r\n      </g>\r\n     </g>\r\n    </g>\r\n    <g id=\"xtick_4\">\r\n     <g id=\"line2d_4\">\r\n      <g>\r\n       <use style=\"stroke:#000000;stroke-width:0.8;\" x=\"179.307112\" xlink:href=\"#m8b4823e7a8\" y=\"239.758125\"/>\r\n      </g>\r\n     </g>\r\n     <g id=\"text_4\">\r\n      <!-- 6.5 -->\r\n      <g transform=\"translate(171.35555 254.356562)scale(0.1 -0.1)\">\r\n       <use xlink:href=\"#DejaVuSans-36\"/>\r\n       <use x=\"63.623047\" xlink:href=\"#DejaVuSans-2e\"/>\r\n       <use x=\"95.410156\" xlink:href=\"#DejaVuSans-35\"/>\r\n      </g>\r\n     </g>\r\n    </g>\r\n    <g id=\"xtick_5\">\r\n     <g id=\"line2d_5\">\r\n      <g>\r\n       <use style=\"stroke:#000000;stroke-width:0.8;\" x=\"217.54375\" xlink:href=\"#m8b4823e7a8\" y=\"239.758125\"/>\r\n      </g>\r\n     </g>\r\n     <g id=\"text_5\">\r\n      <!-- 7.0 -->\r\n      <g transform=\"translate(209.592188 254.356562)scale(0.1 -0.1)\">\r\n       <defs>\r\n        <path d=\"M 525 4666 \r\nL 3525 4666 \r\nL 3525 4397 \r\nL 1831 0 \r\nL 1172 0 \r\nL 2766 4134 \r\nL 525 4134 \r\nL 525 4666 \r\nz\r\n\" id=\"DejaVuSans-37\" transform=\"scale(0.015625)\"/>\r\n       </defs>\r\n       <use xlink:href=\"#DejaVuSans-37\"/>\r\n       <use x=\"63.623047\" xlink:href=\"#DejaVuSans-2e\"/>\r\n       <use x=\"95.410156\" xlink:href=\"#DejaVuSans-30\"/>\r\n      </g>\r\n     </g>\r\n    </g>\r\n    <g id=\"xtick_6\">\r\n     <g id=\"line2d_6\">\r\n      <g>\r\n       <use style=\"stroke:#000000;stroke-width:0.8;\" x=\"255.780388\" xlink:href=\"#m8b4823e7a8\" y=\"239.758125\"/>\r\n      </g>\r\n     </g>\r\n     <g id=\"text_6\">\r\n      <!-- 7.5 -->\r\n      <g transform=\"translate(247.828825 254.356562)scale(0.1 -0.1)\">\r\n       <use xlink:href=\"#DejaVuSans-37\"/>\r\n       <use x=\"63.623047\" xlink:href=\"#DejaVuSans-2e\"/>\r\n       <use x=\"95.410156\" xlink:href=\"#DejaVuSans-35\"/>\r\n      </g>\r\n     </g>\r\n    </g>\r\n    <g id=\"xtick_7\">\r\n     <g id=\"line2d_7\">\r\n      <g>\r\n       <use style=\"stroke:#000000;stroke-width:0.8;\" x=\"294.017025\" xlink:href=\"#m8b4823e7a8\" y=\"239.758125\"/>\r\n      </g>\r\n     </g>\r\n     <g id=\"text_7\">\r\n      <!-- 8.0 -->\r\n      <g transform=\"translate(286.065463 254.356562)scale(0.1 -0.1)\">\r\n       <defs>\r\n        <path d=\"M 2034 2216 \r\nQ 1584 2216 1326 1975 \r\nQ 1069 1734 1069 1313 \r\nQ 1069 891 1326 650 \r\nQ 1584 409 2034 409 \r\nQ 2484 409 2743 651 \r\nQ 3003 894 3003 1313 \r\nQ 3003 1734 2745 1975 \r\nQ 2488 2216 2034 2216 \r\nz\r\nM 1403 2484 \r\nQ 997 2584 770 2862 \r\nQ 544 3141 544 3541 \r\nQ 544 4100 942 4425 \r\nQ 1341 4750 2034 4750 \r\nQ 2731 4750 3128 4425 \r\nQ 3525 4100 3525 3541 \r\nQ 3525 3141 3298 2862 \r\nQ 3072 2584 2669 2484 \r\nQ 3125 2378 3379 2068 \r\nQ 3634 1759 3634 1313 \r\nQ 3634 634 3220 271 \r\nQ 2806 -91 2034 -91 \r\nQ 1263 -91 848 271 \r\nQ 434 634 434 1313 \r\nQ 434 1759 690 2068 \r\nQ 947 2378 1403 2484 \r\nz\r\nM 1172 3481 \r\nQ 1172 3119 1398 2916 \r\nQ 1625 2713 2034 2713 \r\nQ 2441 2713 2670 2916 \r\nQ 2900 3119 2900 3481 \r\nQ 2900 3844 2670 4047 \r\nQ 2441 4250 2034 4250 \r\nQ 1625 4250 1398 4047 \r\nQ 1172 3844 1172 3481 \r\nz\r\n\" id=\"DejaVuSans-38\" transform=\"scale(0.015625)\"/>\r\n       </defs>\r\n       <use xlink:href=\"#DejaVuSans-38\"/>\r\n       <use x=\"63.623047\" xlink:href=\"#DejaVuSans-2e\"/>\r\n       <use x=\"95.410156\" xlink:href=\"#DejaVuSans-30\"/>\r\n      </g>\r\n     </g>\r\n    </g>\r\n    <g id=\"xtick_8\">\r\n     <g id=\"line2d_8\">\r\n      <g>\r\n       <use style=\"stroke:#000000;stroke-width:0.8;\" x=\"332.253663\" xlink:href=\"#m8b4823e7a8\" y=\"239.758125\"/>\r\n      </g>\r\n     </g>\r\n     <g id=\"text_8\">\r\n      <!-- 8.5 -->\r\n      <g transform=\"translate(324.302101 254.356562)scale(0.1 -0.1)\">\r\n       <use xlink:href=\"#DejaVuSans-38\"/>\r\n       <use x=\"63.623047\" xlink:href=\"#DejaVuSans-2e\"/>\r\n       <use x=\"95.410156\" xlink:href=\"#DejaVuSans-35\"/>\r\n      </g>\r\n     </g>\r\n    </g>\r\n    <g id=\"xtick_9\">\r\n     <g id=\"line2d_9\">\r\n      <g>\r\n       <use style=\"stroke:#000000;stroke-width:0.8;\" x=\"370.490301\" xlink:href=\"#m8b4823e7a8\" y=\"239.758125\"/>\r\n      </g>\r\n     </g>\r\n     <g id=\"text_9\">\r\n      <!-- 9.0 -->\r\n      <g transform=\"translate(362.538738 254.356562)scale(0.1 -0.1)\">\r\n       <defs>\r\n        <path d=\"M 703 97 \r\nL 703 672 \r\nQ 941 559 1184 500 \r\nQ 1428 441 1663 441 \r\nQ 2288 441 2617 861 \r\nQ 2947 1281 2994 2138 \r\nQ 2813 1869 2534 1725 \r\nQ 2256 1581 1919 1581 \r\nQ 1219 1581 811 2004 \r\nQ 403 2428 403 3163 \r\nQ 403 3881 828 4315 \r\nQ 1253 4750 1959 4750 \r\nQ 2769 4750 3195 4129 \r\nQ 3622 3509 3622 2328 \r\nQ 3622 1225 3098 567 \r\nQ 2575 -91 1691 -91 \r\nQ 1453 -91 1209 -44 \r\nQ 966 3 703 97 \r\nz\r\nM 1959 2075 \r\nQ 2384 2075 2632 2365 \r\nQ 2881 2656 2881 3163 \r\nQ 2881 3666 2632 3958 \r\nQ 2384 4250 1959 4250 \r\nQ 1534 4250 1286 3958 \r\nQ 1038 3666 1038 3163 \r\nQ 1038 2656 1286 2365 \r\nQ 1534 2075 1959 2075 \r\nz\r\n\" id=\"DejaVuSans-39\" transform=\"scale(0.015625)\"/>\r\n       </defs>\r\n       <use xlink:href=\"#DejaVuSans-39\"/>\r\n       <use x=\"63.623047\" xlink:href=\"#DejaVuSans-2e\"/>\r\n       <use x=\"95.410156\" xlink:href=\"#DejaVuSans-30\"/>\r\n      </g>\r\n     </g>\r\n    </g>\r\n    <g id=\"text_10\">\r\n     <!-- Study Hours -->\r\n     <g transform=\"translate(186.869531 268.034687)scale(0.1 -0.1)\">\r\n      <defs>\r\n       <path d=\"M 3425 4513 \r\nL 3425 3897 \r\nQ 3066 4069 2747 4153 \r\nQ 2428 4238 2131 4238 \r\nQ 1616 4238 1336 4038 \r\nQ 1056 3838 1056 3469 \r\nQ 1056 3159 1242 3001 \r\nQ 1428 2844 1947 2747 \r\nL 2328 2669 \r\nQ 3034 2534 3370 2195 \r\nQ 3706 1856 3706 1288 \r\nQ 3706 609 3251 259 \r\nQ 2797 -91 1919 -91 \r\nQ 1588 -91 1214 -16 \r\nQ 841 59 441 206 \r\nL 441 856 \r\nQ 825 641 1194 531 \r\nQ 1563 422 1919 422 \r\nQ 2459 422 2753 634 \r\nQ 3047 847 3047 1241 \r\nQ 3047 1584 2836 1778 \r\nQ 2625 1972 2144 2069 \r\nL 1759 2144 \r\nQ 1053 2284 737 2584 \r\nQ 422 2884 422 3419 \r\nQ 422 4038 858 4394 \r\nQ 1294 4750 2059 4750 \r\nQ 2388 4750 2728 4690 \r\nQ 3069 4631 3425 4513 \r\nz\r\n\" id=\"DejaVuSans-53\" transform=\"scale(0.015625)\"/>\r\n       <path d=\"M 1172 4494 \r\nL 1172 3500 \r\nL 2356 3500 \r\nL 2356 3053 \r\nL 1172 3053 \r\nL 1172 1153 \r\nQ 1172 725 1289 603 \r\nQ 1406 481 1766 481 \r\nL 2356 481 \r\nL 2356 0 \r\nL 1766 0 \r\nQ 1100 0 847 248 \r\nQ 594 497 594 1153 \r\nL 594 3053 \r\nL 172 3053 \r\nL 172 3500 \r\nL 594 3500 \r\nL 594 4494 \r\nL 1172 4494 \r\nz\r\n\" id=\"DejaVuSans-74\" transform=\"scale(0.015625)\"/>\r\n       <path d=\"M 544 1381 \r\nL 544 3500 \r\nL 1119 3500 \r\nL 1119 1403 \r\nQ 1119 906 1312 657 \r\nQ 1506 409 1894 409 \r\nQ 2359 409 2629 706 \r\nQ 2900 1003 2900 1516 \r\nL 2900 3500 \r\nL 3475 3500 \r\nL 3475 0 \r\nL 2900 0 \r\nL 2900 538 \r\nQ 2691 219 2414 64 \r\nQ 2138 -91 1772 -91 \r\nQ 1169 -91 856 284 \r\nQ 544 659 544 1381 \r\nz\r\nM 1991 3584 \r\nL 1991 3584 \r\nz\r\n\" id=\"DejaVuSans-75\" transform=\"scale(0.015625)\"/>\r\n       <path d=\"M 2906 2969 \r\nL 2906 4863 \r\nL 3481 4863 \r\nL 3481 0 \r\nL 2906 0 \r\nL 2906 525 \r\nQ 2725 213 2448 61 \r\nQ 2172 -91 1784 -91 \r\nQ 1150 -91 751 415 \r\nQ 353 922 353 1747 \r\nQ 353 2572 751 3078 \r\nQ 1150 3584 1784 3584 \r\nQ 2172 3584 2448 3432 \r\nQ 2725 3281 2906 2969 \r\nz\r\nM 947 1747 \r\nQ 947 1113 1208 752 \r\nQ 1469 391 1925 391 \r\nQ 2381 391 2643 752 \r\nQ 2906 1113 2906 1747 \r\nQ 2906 2381 2643 2742 \r\nQ 2381 3103 1925 3103 \r\nQ 1469 3103 1208 2742 \r\nQ 947 2381 947 1747 \r\nz\r\n\" id=\"DejaVuSans-64\" transform=\"scale(0.015625)\"/>\r\n       <path d=\"M 2059 -325 \r\nQ 1816 -950 1584 -1140 \r\nQ 1353 -1331 966 -1331 \r\nL 506 -1331 \r\nL 506 -850 \r\nL 844 -850 \r\nQ 1081 -850 1212 -737 \r\nQ 1344 -625 1503 -206 \r\nL 1606 56 \r\nL 191 3500 \r\nL 800 3500 \r\nL 1894 763 \r\nL 2988 3500 \r\nL 3597 3500 \r\nL 2059 -325 \r\nz\r\n\" id=\"DejaVuSans-79\" transform=\"scale(0.015625)\"/>\r\n       <path id=\"DejaVuSans-20\" transform=\"scale(0.015625)\"/>\r\n       <path d=\"M 628 4666 \r\nL 1259 4666 \r\nL 1259 2753 \r\nL 3553 2753 \r\nL 3553 4666 \r\nL 4184 4666 \r\nL 4184 0 \r\nL 3553 0 \r\nL 3553 2222 \r\nL 1259 2222 \r\nL 1259 0 \r\nL 628 0 \r\nL 628 4666 \r\nz\r\n\" id=\"DejaVuSans-48\" transform=\"scale(0.015625)\"/>\r\n       <path d=\"M 1959 3097 \r\nQ 1497 3097 1228 2736 \r\nQ 959 2375 959 1747 \r\nQ 959 1119 1226 758 \r\nQ 1494 397 1959 397 \r\nQ 2419 397 2687 759 \r\nQ 2956 1122 2956 1747 \r\nQ 2956 2369 2687 2733 \r\nQ 2419 3097 1959 3097 \r\nz\r\nM 1959 3584 \r\nQ 2709 3584 3137 3096 \r\nQ 3566 2609 3566 1747 \r\nQ 3566 888 3137 398 \r\nQ 2709 -91 1959 -91 \r\nQ 1206 -91 779 398 \r\nQ 353 888 353 1747 \r\nQ 353 2609 779 3096 \r\nQ 1206 3584 1959 3584 \r\nz\r\n\" id=\"DejaVuSans-6f\" transform=\"scale(0.015625)\"/>\r\n       <path d=\"M 2631 2963 \r\nQ 2534 3019 2420 3045 \r\nQ 2306 3072 2169 3072 \r\nQ 1681 3072 1420 2755 \r\nQ 1159 2438 1159 1844 \r\nL 1159 0 \r\nL 581 0 \r\nL 581 3500 \r\nL 1159 3500 \r\nL 1159 2956 \r\nQ 1341 3275 1631 3429 \r\nQ 1922 3584 2338 3584 \r\nQ 2397 3584 2469 3576 \r\nQ 2541 3569 2628 3553 \r\nL 2631 2963 \r\nz\r\n\" id=\"DejaVuSans-72\" transform=\"scale(0.015625)\"/>\r\n       <path d=\"M 2834 3397 \r\nL 2834 2853 \r\nQ 2591 2978 2328 3040 \r\nQ 2066 3103 1784 3103 \r\nQ 1356 3103 1142 2972 \r\nQ 928 2841 928 2578 \r\nQ 928 2378 1081 2264 \r\nQ 1234 2150 1697 2047 \r\nL 1894 2003 \r\nQ 2506 1872 2764 1633 \r\nQ 3022 1394 3022 966 \r\nQ 3022 478 2636 193 \r\nQ 2250 -91 1575 -91 \r\nQ 1294 -91 989 -36 \r\nQ 684 19 347 128 \r\nL 347 722 \r\nQ 666 556 975 473 \r\nQ 1284 391 1588 391 \r\nQ 1994 391 2212 530 \r\nQ 2431 669 2431 922 \r\nQ 2431 1156 2273 1281 \r\nQ 2116 1406 1581 1522 \r\nL 1381 1569 \r\nQ 847 1681 609 1914 \r\nQ 372 2147 372 2553 \r\nQ 372 3047 722 3315 \r\nQ 1072 3584 1716 3584 \r\nQ 2034 3584 2315 3537 \r\nQ 2597 3491 2834 3397 \r\nz\r\n\" id=\"DejaVuSans-73\" transform=\"scale(0.015625)\"/>\r\n      </defs>\r\n      <use xlink:href=\"#DejaVuSans-53\"/>\r\n      <use x=\"63.476562\" xlink:href=\"#DejaVuSans-74\"/>\r\n      <use x=\"102.685547\" xlink:href=\"#DejaVuSans-75\"/>\r\n      <use x=\"166.064453\" xlink:href=\"#DejaVuSans-64\"/>\r\n      <use x=\"229.541016\" xlink:href=\"#DejaVuSans-79\"/>\r\n      <use x=\"288.720703\" xlink:href=\"#DejaVuSans-20\"/>\r\n      <use x=\"320.507812\" xlink:href=\"#DejaVuSans-48\"/>\r\n      <use x=\"395.703125\" xlink:href=\"#DejaVuSans-6f\"/>\r\n      <use x=\"456.884766\" xlink:href=\"#DejaVuSans-75\"/>\r\n      <use x=\"520.263672\" xlink:href=\"#DejaVuSans-72\"/>\r\n      <use x=\"561.376953\" xlink:href=\"#DejaVuSans-73\"/>\r\n     </g>\r\n    </g>\r\n   </g>\r\n   <g id=\"matplotlib.axis_2\">\r\n    <g id=\"ytick_1\">\r\n     <g id=\"line2d_10\">\r\n      <defs>\r\n       <path d=\"M 0 0 \r\nL -3.5 0 \r\n\" id=\"md46e74f9c9\" style=\"stroke:#000000;stroke-width:0.8;\"/>\r\n      </defs>\r\n      <g>\r\n       <use style=\"stroke:#000000;stroke-width:0.8;\" x=\"50.14375\" xlink:href=\"#md46e74f9c9\" y=\"214.52856\"/>\r\n      </g>\r\n     </g>\r\n     <g id=\"text_11\">\r\n      <!-- 70.0 -->\r\n      <g transform=\"translate(20.878125 218.327779)scale(0.1 -0.1)\">\r\n       <use xlink:href=\"#DejaVuSans-37\"/>\r\n       <use x=\"63.623047\" xlink:href=\"#DejaVuSans-30\"/>\r\n       <use x=\"127.246094\" xlink:href=\"#DejaVuSans-2e\"/>\r\n       <use x=\"159.033203\" xlink:href=\"#DejaVuSans-30\"/>\r\n      </g>\r\n     </g>\r\n    </g>\r\n    <g id=\"ytick_2\">\r\n     <g id=\"line2d_11\">\r\n      <g>\r\n       <use style=\"stroke:#000000;stroke-width:0.8;\" x=\"50.14375\" xlink:href=\"#md46e74f9c9\" y=\"187.700014\"/>\r\n      </g>\r\n     </g>\r\n     <g id=\"text_12\">\r\n      <!-- 72.5 -->\r\n      <g transform=\"translate(20.878125 191.499233)scale(0.1 -0.1)\">\r\n       <defs>\r\n        <path d=\"M 1228 531 \r\nL 3431 531 \r\nL 3431 0 \r\nL 469 0 \r\nL 469 531 \r\nQ 828 903 1448 1529 \r\nQ 2069 2156 2228 2338 \r\nQ 2531 2678 2651 2914 \r\nQ 2772 3150 2772 3378 \r\nQ 2772 3750 2511 3984 \r\nQ 2250 4219 1831 4219 \r\nQ 1534 4219 1204 4116 \r\nQ 875 4013 500 3803 \r\nL 500 4441 \r\nQ 881 4594 1212 4672 \r\nQ 1544 4750 1819 4750 \r\nQ 2544 4750 2975 4387 \r\nQ 3406 4025 3406 3419 \r\nQ 3406 3131 3298 2873 \r\nQ 3191 2616 2906 2266 \r\nQ 2828 2175 2409 1742 \r\nQ 1991 1309 1228 531 \r\nz\r\n\" id=\"DejaVuSans-32\" transform=\"scale(0.015625)\"/>\r\n       </defs>\r\n       <use xlink:href=\"#DejaVuSans-37\"/>\r\n       <use x=\"63.623047\" xlink:href=\"#DejaVuSans-32\"/>\r\n       <use x=\"127.246094\" xlink:href=\"#DejaVuSans-2e\"/>\r\n       <use x=\"159.033203\" xlink:href=\"#DejaVuSans-35\"/>\r\n      </g>\r\n     </g>\r\n    </g>\r\n    <g id=\"ytick_3\">\r\n     <g id=\"line2d_12\">\r\n      <g>\r\n       <use style=\"stroke:#000000;stroke-width:0.8;\" x=\"50.14375\" xlink:href=\"#md46e74f9c9\" y=\"160.871468\"/>\r\n      </g>\r\n     </g>\r\n     <g id=\"text_13\">\r\n      <!-- 75.0 -->\r\n      <g transform=\"translate(20.878125 164.670687)scale(0.1 -0.1)\">\r\n       <use xlink:href=\"#DejaVuSans-37\"/>\r\n       <use x=\"63.623047\" xlink:href=\"#DejaVuSans-35\"/>\r\n       <use x=\"127.246094\" xlink:href=\"#DejaVuSans-2e\"/>\r\n       <use x=\"159.033203\" xlink:href=\"#DejaVuSans-30\"/>\r\n      </g>\r\n     </g>\r\n    </g>\r\n    <g id=\"ytick_4\">\r\n     <g id=\"line2d_13\">\r\n      <g>\r\n       <use style=\"stroke:#000000;stroke-width:0.8;\" x=\"50.14375\" xlink:href=\"#md46e74f9c9\" y=\"134.042922\"/>\r\n      </g>\r\n     </g>\r\n     <g id=\"text_14\">\r\n      <!-- 77.5 -->\r\n      <g transform=\"translate(20.878125 137.842141)scale(0.1 -0.1)\">\r\n       <use xlink:href=\"#DejaVuSans-37\"/>\r\n       <use x=\"63.623047\" xlink:href=\"#DejaVuSans-37\"/>\r\n       <use x=\"127.246094\" xlink:href=\"#DejaVuSans-2e\"/>\r\n       <use x=\"159.033203\" xlink:href=\"#DejaVuSans-35\"/>\r\n      </g>\r\n     </g>\r\n    </g>\r\n    <g id=\"ytick_5\">\r\n     <g id=\"line2d_14\">\r\n      <g>\r\n       <use style=\"stroke:#000000;stroke-width:0.8;\" x=\"50.14375\" xlink:href=\"#md46e74f9c9\" y=\"107.214376\"/>\r\n      </g>\r\n     </g>\r\n     <g id=\"text_15\">\r\n      <!-- 80.0 -->\r\n      <g transform=\"translate(20.878125 111.013595)scale(0.1 -0.1)\">\r\n       <use xlink:href=\"#DejaVuSans-38\"/>\r\n       <use x=\"63.623047\" xlink:href=\"#DejaVuSans-30\"/>\r\n       <use x=\"127.246094\" xlink:href=\"#DejaVuSans-2e\"/>\r\n       <use x=\"159.033203\" xlink:href=\"#DejaVuSans-30\"/>\r\n      </g>\r\n     </g>\r\n    </g>\r\n    <g id=\"ytick_6\">\r\n     <g id=\"line2d_15\">\r\n      <g>\r\n       <use style=\"stroke:#000000;stroke-width:0.8;\" x=\"50.14375\" xlink:href=\"#md46e74f9c9\" y=\"80.38583\"/>\r\n      </g>\r\n     </g>\r\n     <g id=\"text_16\">\r\n      <!-- 82.5 -->\r\n      <g transform=\"translate(20.878125 84.185049)scale(0.1 -0.1)\">\r\n       <use xlink:href=\"#DejaVuSans-38\"/>\r\n       <use x=\"63.623047\" xlink:href=\"#DejaVuSans-32\"/>\r\n       <use x=\"127.246094\" xlink:href=\"#DejaVuSans-2e\"/>\r\n       <use x=\"159.033203\" xlink:href=\"#DejaVuSans-35\"/>\r\n      </g>\r\n     </g>\r\n    </g>\r\n    <g id=\"ytick_7\">\r\n     <g id=\"line2d_16\">\r\n      <g>\r\n       <use style=\"stroke:#000000;stroke-width:0.8;\" x=\"50.14375\" xlink:href=\"#md46e74f9c9\" y=\"53.557284\"/>\r\n      </g>\r\n     </g>\r\n     <g id=\"text_17\">\r\n      <!-- 85.0 -->\r\n      <g transform=\"translate(20.878125 57.356503)scale(0.1 -0.1)\">\r\n       <use xlink:href=\"#DejaVuSans-38\"/>\r\n       <use x=\"63.623047\" xlink:href=\"#DejaVuSans-35\"/>\r\n       <use x=\"127.246094\" xlink:href=\"#DejaVuSans-2e\"/>\r\n       <use x=\"159.033203\" xlink:href=\"#DejaVuSans-30\"/>\r\n      </g>\r\n     </g>\r\n    </g>\r\n    <g id=\"ytick_8\">\r\n     <g id=\"line2d_17\">\r\n      <g>\r\n       <use style=\"stroke:#000000;stroke-width:0.8;\" x=\"50.14375\" xlink:href=\"#md46e74f9c9\" y=\"26.728738\"/>\r\n      </g>\r\n     </g>\r\n     <g id=\"text_18\">\r\n      <!-- 87.5 -->\r\n      <g transform=\"translate(20.878125 30.527957)scale(0.1 -0.1)\">\r\n       <use xlink:href=\"#DejaVuSans-38\"/>\r\n       <use x=\"63.623047\" xlink:href=\"#DejaVuSans-37\"/>\r\n       <use x=\"127.246094\" xlink:href=\"#DejaVuSans-2e\"/>\r\n       <use x=\"159.033203\" xlink:href=\"#DejaVuSans-35\"/>\r\n      </g>\r\n     </g>\r\n    </g>\r\n    <g id=\"text_19\">\r\n     <!-- Study Time -->\r\n     <g transform=\"translate(14.798438 159.2975)rotate(-90)scale(0.1 -0.1)\">\r\n      <defs>\r\n       <path d=\"M -19 4666 \r\nL 3928 4666 \r\nL 3928 4134 \r\nL 2272 4134 \r\nL 2272 0 \r\nL 1638 0 \r\nL 1638 4134 \r\nL -19 4134 \r\nL -19 4666 \r\nz\r\n\" id=\"DejaVuSans-54\" transform=\"scale(0.015625)\"/>\r\n       <path d=\"M 603 3500 \r\nL 1178 3500 \r\nL 1178 0 \r\nL 603 0 \r\nL 603 3500 \r\nz\r\nM 603 4863 \r\nL 1178 4863 \r\nL 1178 4134 \r\nL 603 4134 \r\nL 603 4863 \r\nz\r\n\" id=\"DejaVuSans-69\" transform=\"scale(0.015625)\"/>\r\n       <path d=\"M 3328 2828 \r\nQ 3544 3216 3844 3400 \r\nQ 4144 3584 4550 3584 \r\nQ 5097 3584 5394 3201 \r\nQ 5691 2819 5691 2113 \r\nL 5691 0 \r\nL 5113 0 \r\nL 5113 2094 \r\nQ 5113 2597 4934 2840 \r\nQ 4756 3084 4391 3084 \r\nQ 3944 3084 3684 2787 \r\nQ 3425 2491 3425 1978 \r\nL 3425 0 \r\nL 2847 0 \r\nL 2847 2094 \r\nQ 2847 2600 2669 2842 \r\nQ 2491 3084 2119 3084 \r\nQ 1678 3084 1418 2786 \r\nQ 1159 2488 1159 1978 \r\nL 1159 0 \r\nL 581 0 \r\nL 581 3500 \r\nL 1159 3500 \r\nL 1159 2956 \r\nQ 1356 3278 1631 3431 \r\nQ 1906 3584 2284 3584 \r\nQ 2666 3584 2933 3390 \r\nQ 3200 3197 3328 2828 \r\nz\r\n\" id=\"DejaVuSans-6d\" transform=\"scale(0.015625)\"/>\r\n       <path d=\"M 3597 1894 \r\nL 3597 1613 \r\nL 953 1613 \r\nQ 991 1019 1311 708 \r\nQ 1631 397 2203 397 \r\nQ 2534 397 2845 478 \r\nQ 3156 559 3463 722 \r\nL 3463 178 \r\nQ 3153 47 2828 -22 \r\nQ 2503 -91 2169 -91 \r\nQ 1331 -91 842 396 \r\nQ 353 884 353 1716 \r\nQ 353 2575 817 3079 \r\nQ 1281 3584 2069 3584 \r\nQ 2775 3584 3186 3129 \r\nQ 3597 2675 3597 1894 \r\nz\r\nM 3022 2063 \r\nQ 3016 2534 2758 2815 \r\nQ 2500 3097 2075 3097 \r\nQ 1594 3097 1305 2825 \r\nQ 1016 2553 972 2059 \r\nL 3022 2063 \r\nz\r\n\" id=\"DejaVuSans-65\" transform=\"scale(0.015625)\"/>\r\n      </defs>\r\n      <use xlink:href=\"#DejaVuSans-53\"/>\r\n      <use x=\"63.476562\" xlink:href=\"#DejaVuSans-74\"/>\r\n      <use x=\"102.685547\" xlink:href=\"#DejaVuSans-75\"/>\r\n      <use x=\"166.064453\" xlink:href=\"#DejaVuSans-64\"/>\r\n      <use x=\"229.541016\" xlink:href=\"#DejaVuSans-79\"/>\r\n      <use x=\"288.720703\" xlink:href=\"#DejaVuSans-20\"/>\r\n      <use x=\"320.507812\" xlink:href=\"#DejaVuSans-54\"/>\r\n      <use x=\"378.466797\" xlink:href=\"#DejaVuSans-69\"/>\r\n      <use x=\"406.25\" xlink:href=\"#DejaVuSans-6d\"/>\r\n      <use x=\"503.662109\" xlink:href=\"#DejaVuSans-65\"/>\r\n     </g>\r\n    </g>\r\n   </g>\r\n   <g id=\"patch_3\">\r\n    <path d=\"M 50.14375 239.758125 \r\nL 50.14375 22.318125 \r\n\" style=\"fill:none;stroke:#000000;stroke-linecap:square;stroke-linejoin:miter;stroke-width:0.8;\"/>\r\n   </g>\r\n   <g id=\"patch_4\">\r\n    <path d=\"M 384.94375 239.758125 \r\nL 384.94375 22.318125 \r\n\" style=\"fill:none;stroke:#000000;stroke-linecap:square;stroke-linejoin:miter;stroke-width:0.8;\"/>\r\n   </g>\r\n   <g id=\"patch_5\">\r\n    <path d=\"M 50.14375 239.758125 \r\nL 384.94375 239.758125 \r\n\" style=\"fill:none;stroke:#000000;stroke-linecap:square;stroke-linejoin:miter;stroke-width:0.8;\"/>\r\n   </g>\r\n   <g id=\"patch_6\">\r\n    <path d=\"M 50.14375 22.318125 \r\nL 384.94375 22.318125 \r\n\" style=\"fill:none;stroke:#000000;stroke-linecap:square;stroke-linejoin:miter;stroke-width:0.8;\"/>\r\n   </g>\r\n   <g id=\"text_20\">\r\n    <!-- Study Hours Vs Student Marks  -->\r\n    <g transform=\"translate(124.3375 16.318125)scale(0.12 -0.12)\">\r\n     <defs>\r\n      <path d=\"M 1831 0 \r\nL 50 4666 \r\nL 709 4666 \r\nL 2188 738 \r\nL 3669 4666 \r\nL 4325 4666 \r\nL 2547 0 \r\nL 1831 0 \r\nz\r\n\" id=\"DejaVuSans-56\" transform=\"scale(0.015625)\"/>\r\n      <path d=\"M 3513 2113 \r\nL 3513 0 \r\nL 2938 0 \r\nL 2938 2094 \r\nQ 2938 2591 2744 2837 \r\nQ 2550 3084 2163 3084 \r\nQ 1697 3084 1428 2787 \r\nQ 1159 2491 1159 1978 \r\nL 1159 0 \r\nL 581 0 \r\nL 581 3500 \r\nL 1159 3500 \r\nL 1159 2956 \r\nQ 1366 3272 1645 3428 \r\nQ 1925 3584 2291 3584 \r\nQ 2894 3584 3203 3211 \r\nQ 3513 2838 3513 2113 \r\nz\r\n\" id=\"DejaVuSans-6e\" transform=\"scale(0.015625)\"/>\r\n      <path d=\"M 628 4666 \r\nL 1569 4666 \r\nL 2759 1491 \r\nL 3956 4666 \r\nL 4897 4666 \r\nL 4897 0 \r\nL 4281 0 \r\nL 4281 4097 \r\nL 3078 897 \r\nL 2444 897 \r\nL 1241 4097 \r\nL 1241 0 \r\nL 628 0 \r\nL 628 4666 \r\nz\r\n\" id=\"DejaVuSans-4d\" transform=\"scale(0.015625)\"/>\r\n      <path d=\"M 2194 1759 \r\nQ 1497 1759 1228 1600 \r\nQ 959 1441 959 1056 \r\nQ 959 750 1161 570 \r\nQ 1363 391 1709 391 \r\nQ 2188 391 2477 730 \r\nQ 2766 1069 2766 1631 \r\nL 2766 1759 \r\nL 2194 1759 \r\nz\r\nM 3341 1997 \r\nL 3341 0 \r\nL 2766 0 \r\nL 2766 531 \r\nQ 2569 213 2275 61 \r\nQ 1981 -91 1556 -91 \r\nQ 1019 -91 701 211 \r\nQ 384 513 384 1019 \r\nQ 384 1609 779 1909 \r\nQ 1175 2209 1959 2209 \r\nL 2766 2209 \r\nL 2766 2266 \r\nQ 2766 2663 2505 2880 \r\nQ 2244 3097 1772 3097 \r\nQ 1472 3097 1187 3025 \r\nQ 903 2953 641 2809 \r\nL 641 3341 \r\nQ 956 3463 1253 3523 \r\nQ 1550 3584 1831 3584 \r\nQ 2591 3584 2966 3190 \r\nQ 3341 2797 3341 1997 \r\nz\r\n\" id=\"DejaVuSans-61\" transform=\"scale(0.015625)\"/>\r\n      <path d=\"M 581 4863 \r\nL 1159 4863 \r\nL 1159 1991 \r\nL 2875 3500 \r\nL 3609 3500 \r\nL 1753 1863 \r\nL 3688 0 \r\nL 2938 0 \r\nL 1159 1709 \r\nL 1159 0 \r\nL 581 0 \r\nL 581 4863 \r\nz\r\n\" id=\"DejaVuSans-6b\" transform=\"scale(0.015625)\"/>\r\n     </defs>\r\n     <use xlink:href=\"#DejaVuSans-53\"/>\r\n     <use x=\"63.476562\" xlink:href=\"#DejaVuSans-74\"/>\r\n     <use x=\"102.685547\" xlink:href=\"#DejaVuSans-75\"/>\r\n     <use x=\"166.064453\" xlink:href=\"#DejaVuSans-64\"/>\r\n     <use x=\"229.541016\" xlink:href=\"#DejaVuSans-79\"/>\r\n     <use x=\"288.720703\" xlink:href=\"#DejaVuSans-20\"/>\r\n     <use x=\"320.507812\" xlink:href=\"#DejaVuSans-48\"/>\r\n     <use x=\"395.703125\" xlink:href=\"#DejaVuSans-6f\"/>\r\n     <use x=\"456.884766\" xlink:href=\"#DejaVuSans-75\"/>\r\n     <use x=\"520.263672\" xlink:href=\"#DejaVuSans-72\"/>\r\n     <use x=\"561.376953\" xlink:href=\"#DejaVuSans-73\"/>\r\n     <use x=\"613.476562\" xlink:href=\"#DejaVuSans-20\"/>\r\n     <use x=\"645.263672\" xlink:href=\"#DejaVuSans-56\"/>\r\n     <use x=\"713.671875\" xlink:href=\"#DejaVuSans-73\"/>\r\n     <use x=\"765.771484\" xlink:href=\"#DejaVuSans-20\"/>\r\n     <use x=\"797.558594\" xlink:href=\"#DejaVuSans-53\"/>\r\n     <use x=\"861.035156\" xlink:href=\"#DejaVuSans-74\"/>\r\n     <use x=\"900.244141\" xlink:href=\"#DejaVuSans-75\"/>\r\n     <use x=\"963.623047\" xlink:href=\"#DejaVuSans-64\"/>\r\n     <use x=\"1027.099609\" xlink:href=\"#DejaVuSans-65\"/>\r\n     <use x=\"1088.623047\" xlink:href=\"#DejaVuSans-6e\"/>\r\n     <use x=\"1152.001953\" xlink:href=\"#DejaVuSans-74\"/>\r\n     <use x=\"1191.210938\" xlink:href=\"#DejaVuSans-20\"/>\r\n     <use x=\"1222.998047\" xlink:href=\"#DejaVuSans-4d\"/>\r\n     <use x=\"1309.277344\" xlink:href=\"#DejaVuSans-61\"/>\r\n     <use x=\"1370.556641\" xlink:href=\"#DejaVuSans-72\"/>\r\n     <use x=\"1411.669922\" xlink:href=\"#DejaVuSans-6b\"/>\r\n     <use x=\"1469.580078\" xlink:href=\"#DejaVuSans-73\"/>\r\n     <use x=\"1521.679688\" xlink:href=\"#DejaVuSans-20\"/>\r\n    </g>\r\n   </g>\r\n  </g>\r\n </g>\r\n <defs>\r\n  <clipPath id=\"pae5ff21a68\">\r\n   <rect height=\"217.44\" width=\"334.8\" x=\"50.14375\" y=\"22.318125\"/>\r\n  </clipPath>\r\n </defs>\r\n</svg>\r\n",
                        "image/png": "[encoded data removed]"
                    },
                    "metadata": {
                        "needs_background": "light"
                    }
                }
            ],
            "metadata": {}
        },
        {
            "cell_type": "code",
            "execution_count": 9,
            "source": [
                "# Data Cleaning \r\n",
                "data.isnull().sum()"
            ],
            "outputs": [
                {
                    "output_type": "execute_result",
                    "data": {
                        "text/plain": [
                            "study_hours      5\n",
                            "student_marks    0\n",
                            "dtype: int64"
                        ]
                    },
                    "metadata": {},
                    "execution_count": 9
                }
            ],
            "metadata": {}
        },
        {
            "cell_type": "code",
            "execution_count": 10,
            "source": [
                "data.mean()"
            ],
            "outputs": [
                {
                    "output_type": "execute_result",
                    "data": {
                        "text/plain": [
                            "study_hours       6.995949\n",
                            "student_marks    77.933750\n",
                            "dtype: float64"
                        ]
                    },
                    "metadata": {},
                    "execution_count": 10
                }
            ],
            "metadata": {}
        },
        {
            "cell_type": "code",
            "execution_count": 11,
            "source": [
                "data2=data.fillna(data.mean())"
            ],
            "outputs": [],
            "metadata": {}
        },
        {
            "cell_type": "code",
            "execution_count": 12,
            "source": [
                "data2.isnull().sum()"
            ],
            "outputs": [
                {
                    "output_type": "execute_result",
                    "data": {
                        "text/plain": [
                            "study_hours      0\n",
                            "student_marks    0\n",
                            "dtype: int64"
                        ]
                    },
                    "metadata": {},
                    "execution_count": 12
                }
            ],
            "metadata": {}
        },
        {
            "cell_type": "code",
            "execution_count": 13,
            "source": [
                "data2.head()"
            ],
            "outputs": [
                {
                    "output_type": "execute_result",
                    "data": {
                        "text/plain": [
                            "   study_hours  student_marks\n",
                            "0     6.830000          78.50\n",
                            "1     6.560000          76.74\n",
                            "2     6.995949          78.68\n",
                            "3     5.670000          71.82\n",
                            "4     8.670000          84.19"
                        ],
                        "text/html": [
                            "<div>\n",
                            "<style scoped>\n",
                            "    .dataframe tbody tr th:only-of-type {\n",
                            "        vertical-align: middle;\n",
                            "    }\n",
                            "\n",
                            "    .dataframe tbody tr th {\n",
                            "        vertical-align: top;\n",
                            "    }\n",
                            "\n",
                            "    .dataframe thead th {\n",
                            "        text-align: right;\n",
                            "    }\n",
                            "</style>\n",
                            "<table border=\"1\" class=\"dataframe\">\n",
                            "  <thead>\n",
                            "    <tr style=\"text-align: right;\">\n",
                            "      <th></th>\n",
                            "      <th>study_hours</th>\n",
                            "      <th>student_marks</th>\n",
                            "    </tr>\n",
                            "  </thead>\n",
                            "  <tbody>\n",
                            "    <tr>\n",
                            "      <th>0</th>\n",
                            "      <td>6.830000</td>\n",
                            "      <td>78.50</td>\n",
                            "    </tr>\n",
                            "    <tr>\n",
                            "      <th>1</th>\n",
                            "      <td>6.560000</td>\n",
                            "      <td>76.74</td>\n",
                            "    </tr>\n",
                            "    <tr>\n",
                            "      <th>2</th>\n",
                            "      <td>6.995949</td>\n",
                            "      <td>78.68</td>\n",
                            "    </tr>\n",
                            "    <tr>\n",
                            "      <th>3</th>\n",
                            "      <td>5.670000</td>\n",
                            "      <td>71.82</td>\n",
                            "    </tr>\n",
                            "    <tr>\n",
                            "      <th>4</th>\n",
                            "      <td>8.670000</td>\n",
                            "      <td>84.19</td>\n",
                            "    </tr>\n",
                            "  </tbody>\n",
                            "</table>\n",
                            "</div>"
                        ]
                    },
                    "metadata": {},
                    "execution_count": 13
                }
            ],
            "metadata": {}
        },
        {
            "cell_type": "code",
            "execution_count": 14,
            "source": [
                "# split dataset for training\r\n",
                "x=data2.drop(\"student_marks\", axis=\"columns\")\r\n",
                "y=data2.drop(\"study_hours\",axis=\"columns\")\r\n",
                "print(\"shape of x\",x.shape)\r\n",
                "print(\"shape of y\", y.shape)"
            ],
            "outputs": [
                {
                    "output_type": "stream",
                    "name": "stdout",
                    "text": [
                        "shape of x (200, 1)\n",
                        "shape of y (200, 1)\n"
                    ]
                }
            ],
            "metadata": {}
        },
        {
            "cell_type": "code",
            "execution_count": 15,
            "source": [
                "from sklearn.model_selection import train_test_split\r\n",
                "X_train,X_test,Y_train,Y_test=train_test_split(x,y,test_size=0.2, random_state=51) # tes_size is defining how much data we want for testing so 0.2 means i am using 20 percent data for testing"
            ],
            "outputs": [],
            "metadata": {}
        },
        {
            "cell_type": "code",
            "execution_count": 16,
            "source": [
                "print(\"shape of X Train\",X_train.shape)\r\n",
                "print(\"shape of Y Train\",Y_train.shape)\r\n",
                "print(\"shape of X Test\", X_test.shape)\r\n",
                "print(\"shape of Y Test\",Y_test.shape)"
            ],
            "outputs": [
                {
                    "output_type": "stream",
                    "name": "stdout",
                    "text": [
                        "shape of X Train (160, 1)\n",
                        "shape of Y Train (160, 1)\n",
                        "shape of X Test (40, 1)\n",
                        "shape of Y Test (40, 1)\n"
                    ]
                }
            ],
            "metadata": {}
        },
        {
            "cell_type": "code",
            "execution_count": 17,
            "source": [
                "# So in above scatter plot as we saw that when the value of x is increasing the value of y is also increasing in a linear format so we can use linear regression model\r\n",
                "from sklearn.linear_model import LinearRegression\r\n",
                "lr=LinearRegression()"
            ],
            "outputs": [],
            "metadata": {}
        },
        {
            "cell_type": "code",
            "execution_count": 18,
            "source": [
                "lr.fit(X_train,Y_train)"
            ],
            "outputs": [
                {
                    "output_type": "execute_result",
                    "data": {
                        "text/plain": [
                            "LinearRegression()"
                        ]
                    },
                    "metadata": {},
                    "execution_count": 18
                }
            ],
            "metadata": {}
        },
        {
            "cell_type": "code",
            "execution_count": 19,
            "source": [
                "lr.coef_"
            ],
            "outputs": [
                {
                    "output_type": "execute_result",
                    "data": {
                        "text/plain": [
                            "array([[3.93571802]])"
                        ]
                    },
                    "metadata": {},
                    "execution_count": 19
                }
            ],
            "metadata": {}
        },
        {
            "cell_type": "code",
            "execution_count": 20,
            "source": [
                "lr.intercept_"
            ],
            "outputs": [
                {
                    "output_type": "execute_result",
                    "data": {
                        "text/plain": [
                            "array([50.44735504])"
                        ]
                    },
                    "metadata": {},
                    "execution_count": 20
                }
            ],
            "metadata": {}
        },
        {
            "cell_type": "code",
            "execution_count": 21,
            "source": [
                "m= 3.93\r\n",
                "c= 50.44\r\n",
                "y= m*12+c\r\n",
                "y"
            ],
            "outputs": [
                {
                    "output_type": "execute_result",
                    "data": {
                        "text/plain": [
                            "97.6"
                        ]
                    },
                    "metadata": {},
                    "execution_count": 21
                }
            ],
            "metadata": {}
        },
        {
            "cell_type": "code",
            "execution_count": 22,
            "source": [
                "lr.predict([[4]])[0][0].round(2)"
            ],
            "outputs": [
                {
                    "output_type": "execute_result",
                    "data": {
                        "text/plain": [
                            "66.19"
                        ]
                    },
                    "metadata": {},
                    "execution_count": 22
                }
            ],
            "metadata": {}
        },
        {
            "cell_type": "code",
            "execution_count": 23,
            "source": [
                "y_pred=lr.predict(X_test)\r\n",
                "y_pred"
            ],
            "outputs": [
                {
                    "output_type": "execute_result",
                    "data": {
                        "text/plain": [
                            "array([[83.11381458],\n",
                            "       [78.9025963 ],\n",
                            "       [84.57003024],\n",
                            "       [85.82946001],\n",
                            "       [84.72745896],\n",
                            "       [80.75238377],\n",
                            "       [72.84159055],\n",
                            "       [71.66087515],\n",
                            "       [73.23516235],\n",
                            "       [71.66087515],\n",
                            "       [73.47130543],\n",
                            "       [76.38373677],\n",
                            "       [73.23516235],\n",
                            "       [73.58937697],\n",
                            "       [82.95638585],\n",
                            "       [70.40144538],\n",
                            "       [73.23516235],\n",
                            "       [78.74516758],\n",
                            "       [75.55723598],\n",
                            "       [82.68088559],\n",
                            "       [76.65923703],\n",
                            "       [70.48015974],\n",
                            "       [74.77009238],\n",
                            "       [77.98143645],\n",
                            "       [85.59331693],\n",
                            "       [82.56281405],\n",
                            "       [76.42309395],\n",
                            "       [85.0423164 ],\n",
                            "       [78.39095296],\n",
                            "       [81.38209865],\n",
                            "       [81.73631327],\n",
                            "       [83.15317176],\n",
                            "       [82.20859943],\n",
                            "       [81.10659839],\n",
                            "       [73.58937697],\n",
                            "       [71.1492318 ],\n",
                            "       [71.89701823],\n",
                            "       [81.53952737],\n",
                            "       [72.60544747],\n",
                            "       [71.93637541]])"
                        ]
                    },
                    "metadata": {},
                    "execution_count": 23
                }
            ],
            "metadata": {}
        },
        {
            "cell_type": "code",
            "execution_count": 24,
            "source": [
                "pd.DataFrame(np.c_[X_test,Y_test,y_pred], columns=[\"study_hours\",\"student_marks_original\",\"student_marks_predicted\"])"
            ],
            "outputs": [
                {
                    "output_type": "execute_result",
                    "data": {
                        "text/plain": [
                            "    study_hours  student_marks_original  student_marks_predicted\n",
                            "0      8.300000                   82.02                83.113815\n",
                            "1      7.230000                   77.55                78.902596\n",
                            "2      8.670000                   84.19                84.570030\n",
                            "3      8.990000                   85.46                85.829460\n",
                            "4      8.710000                   84.03                84.727459\n",
                            "5      7.700000                   80.81                80.752384\n",
                            "6      5.690000                   73.61                72.841591\n",
                            "7      5.390000                   70.90                71.660875\n",
                            "8      5.790000                   73.14                73.235162\n",
                            "9      5.390000                   73.02                71.660875\n",
                            "10     5.850000                   75.02                73.471305\n",
                            "11     6.590000                   75.37                76.383737\n",
                            "12     5.790000                   74.44                73.235162\n",
                            "13     5.880000                   73.40                73.589377\n",
                            "14     8.260000                   81.70                82.956386\n",
                            "15     5.070000                   69.27                70.401445\n",
                            "16     5.790000                   73.64                73.235162\n",
                            "17     7.190000                   77.63                78.745168\n",
                            "18     6.380000                   77.01                75.557236\n",
                            "19     8.190000                   83.08                82.680886\n",
                            "20     6.660000                   76.63                76.659237\n",
                            "21     5.090000                   72.22                70.480160\n",
                            "22     6.180000                   72.96                74.770092\n",
                            "23     6.995949                   76.14                77.981436\n",
                            "24     8.930000                   85.96                85.593317\n",
                            "25     8.160000                   83.36                82.562814\n",
                            "26     6.600000                   78.05                76.423094\n",
                            "27     8.790000                   84.60                85.042316\n",
                            "28     7.100000                   76.76                78.390953\n",
                            "29     7.860000                   81.24                81.382099\n",
                            "30     7.950000                   80.86                81.736313\n",
                            "31     8.310000                   82.69                83.153172\n",
                            "32     8.070000                   82.30                82.208599\n",
                            "33     7.790000                   79.17                81.106598\n",
                            "34     5.880000                   73.34                73.589377\n",
                            "35     5.260000                   71.86                71.149232\n",
                            "36     5.450000                   70.06                71.897018\n",
                            "37     7.900000                   80.76                81.539527\n",
                            "38     5.630000                   72.87                72.605447\n",
                            "39     5.460000                   71.10                71.936375"
                        ],
                        "text/html": [
                            "<div>\n",
                            "<style scoped>\n",
                            "    .dataframe tbody tr th:only-of-type {\n",
                            "        vertical-align: middle;\n",
                            "    }\n",
                            "\n",
                            "    .dataframe tbody tr th {\n",
                            "        vertical-align: top;\n",
                            "    }\n",
                            "\n",
                            "    .dataframe thead th {\n",
                            "        text-align: right;\n",
                            "    }\n",
                            "</style>\n",
                            "<table border=\"1\" class=\"dataframe\">\n",
                            "  <thead>\n",
                            "    <tr style=\"text-align: right;\">\n",
                            "      <th></th>\n",
                            "      <th>study_hours</th>\n",
                            "      <th>student_marks_original</th>\n",
                            "      <th>student_marks_predicted</th>\n",
                            "    </tr>\n",
                            "  </thead>\n",
                            "  <tbody>\n",
                            "    <tr>\n",
                            "      <th>0</th>\n",
                            "      <td>8.300000</td>\n",
                            "      <td>82.02</td>\n",
                            "      <td>83.113815</td>\n",
                            "    </tr>\n",
                            "    <tr>\n",
                            "      <th>1</th>\n",
                            "      <td>7.230000</td>\n",
                            "      <td>77.55</td>\n",
                            "      <td>78.902596</td>\n",
                            "    </tr>\n",
                            "    <tr>\n",
                            "      <th>2</th>\n",
                            "      <td>8.670000</td>\n",
                            "      <td>84.19</td>\n",
                            "      <td>84.570030</td>\n",
                            "    </tr>\n",
                            "    <tr>\n",
                            "      <th>3</th>\n",
                            "      <td>8.990000</td>\n",
                            "      <td>85.46</td>\n",
                            "      <td>85.829460</td>\n",
                            "    </tr>\n",
                            "    <tr>\n",
                            "      <th>4</th>\n",
                            "      <td>8.710000</td>\n",
                            "      <td>84.03</td>\n",
                            "      <td>84.727459</td>\n",
                            "    </tr>\n",
                            "    <tr>\n",
                            "      <th>5</th>\n",
                            "      <td>7.700000</td>\n",
                            "      <td>80.81</td>\n",
                            "      <td>80.752384</td>\n",
                            "    </tr>\n",
                            "    <tr>\n",
                            "      <th>6</th>\n",
                            "      <td>5.690000</td>\n",
                            "      <td>73.61</td>\n",
                            "      <td>72.841591</td>\n",
                            "    </tr>\n",
                            "    <tr>\n",
                            "      <th>7</th>\n",
                            "      <td>5.390000</td>\n",
                            "      <td>70.90</td>\n",
                            "      <td>71.660875</td>\n",
                            "    </tr>\n",
                            "    <tr>\n",
                            "      <th>8</th>\n",
                            "      <td>5.790000</td>\n",
                            "      <td>73.14</td>\n",
                            "      <td>73.235162</td>\n",
                            "    </tr>\n",
                            "    <tr>\n",
                            "      <th>9</th>\n",
                            "      <td>5.390000</td>\n",
                            "      <td>73.02</td>\n",
                            "      <td>71.660875</td>\n",
                            "    </tr>\n",
                            "    <tr>\n",
                            "      <th>10</th>\n",
                            "      <td>5.850000</td>\n",
                            "      <td>75.02</td>\n",
                            "      <td>73.471305</td>\n",
                            "    </tr>\n",
                            "    <tr>\n",
                            "      <th>11</th>\n",
                            "      <td>6.590000</td>\n",
                            "      <td>75.37</td>\n",
                            "      <td>76.383737</td>\n",
                            "    </tr>\n",
                            "    <tr>\n",
                            "      <th>12</th>\n",
                            "      <td>5.790000</td>\n",
                            "      <td>74.44</td>\n",
                            "      <td>73.235162</td>\n",
                            "    </tr>\n",
                            "    <tr>\n",
                            "      <th>13</th>\n",
                            "      <td>5.880000</td>\n",
                            "      <td>73.40</td>\n",
                            "      <td>73.589377</td>\n",
                            "    </tr>\n",
                            "    <tr>\n",
                            "      <th>14</th>\n",
                            "      <td>8.260000</td>\n",
                            "      <td>81.70</td>\n",
                            "      <td>82.956386</td>\n",
                            "    </tr>\n",
                            "    <tr>\n",
                            "      <th>15</th>\n",
                            "      <td>5.070000</td>\n",
                            "      <td>69.27</td>\n",
                            "      <td>70.401445</td>\n",
                            "    </tr>\n",
                            "    <tr>\n",
                            "      <th>16</th>\n",
                            "      <td>5.790000</td>\n",
                            "      <td>73.64</td>\n",
                            "      <td>73.235162</td>\n",
                            "    </tr>\n",
                            "    <tr>\n",
                            "      <th>17</th>\n",
                            "      <td>7.190000</td>\n",
                            "      <td>77.63</td>\n",
                            "      <td>78.745168</td>\n",
                            "    </tr>\n",
                            "    <tr>\n",
                            "      <th>18</th>\n",
                            "      <td>6.380000</td>\n",
                            "      <td>77.01</td>\n",
                            "      <td>75.557236</td>\n",
                            "    </tr>\n",
                            "    <tr>\n",
                            "      <th>19</th>\n",
                            "      <td>8.190000</td>\n",
                            "      <td>83.08</td>\n",
                            "      <td>82.680886</td>\n",
                            "    </tr>\n",
                            "    <tr>\n",
                            "      <th>20</th>\n",
                            "      <td>6.660000</td>\n",
                            "      <td>76.63</td>\n",
                            "      <td>76.659237</td>\n",
                            "    </tr>\n",
                            "    <tr>\n",
                            "      <th>21</th>\n",
                            "      <td>5.090000</td>\n",
                            "      <td>72.22</td>\n",
                            "      <td>70.480160</td>\n",
                            "    </tr>\n",
                            "    <tr>\n",
                            "      <th>22</th>\n",
                            "      <td>6.180000</td>\n",
                            "      <td>72.96</td>\n",
                            "      <td>74.770092</td>\n",
                            "    </tr>\n",
                            "    <tr>\n",
                            "      <th>23</th>\n",
                            "      <td>6.995949</td>\n",
                            "      <td>76.14</td>\n",
                            "      <td>77.981436</td>\n",
                            "    </tr>\n",
                            "    <tr>\n",
                            "      <th>24</th>\n",
                            "      <td>8.930000</td>\n",
                            "      <td>85.96</td>\n",
                            "      <td>85.593317</td>\n",
                            "    </tr>\n",
                            "    <tr>\n",
                            "      <th>25</th>\n",
                            "      <td>8.160000</td>\n",
                            "      <td>83.36</td>\n",
                            "      <td>82.562814</td>\n",
                            "    </tr>\n",
                            "    <tr>\n",
                            "      <th>26</th>\n",
                            "      <td>6.600000</td>\n",
                            "      <td>78.05</td>\n",
                            "      <td>76.423094</td>\n",
                            "    </tr>\n",
                            "    <tr>\n",
                            "      <th>27</th>\n",
                            "      <td>8.790000</td>\n",
                            "      <td>84.60</td>\n",
                            "      <td>85.042316</td>\n",
                            "    </tr>\n",
                            "    <tr>\n",
                            "      <th>28</th>\n",
                            "      <td>7.100000</td>\n",
                            "      <td>76.76</td>\n",
                            "      <td>78.390953</td>\n",
                            "    </tr>\n",
                            "    <tr>\n",
                            "      <th>29</th>\n",
                            "      <td>7.860000</td>\n",
                            "      <td>81.24</td>\n",
                            "      <td>81.382099</td>\n",
                            "    </tr>\n",
                            "    <tr>\n",
                            "      <th>30</th>\n",
                            "      <td>7.950000</td>\n",
                            "      <td>80.86</td>\n",
                            "      <td>81.736313</td>\n",
                            "    </tr>\n",
                            "    <tr>\n",
                            "      <th>31</th>\n",
                            "      <td>8.310000</td>\n",
                            "      <td>82.69</td>\n",
                            "      <td>83.153172</td>\n",
                            "    </tr>\n",
                            "    <tr>\n",
                            "      <th>32</th>\n",
                            "      <td>8.070000</td>\n",
                            "      <td>82.30</td>\n",
                            "      <td>82.208599</td>\n",
                            "    </tr>\n",
                            "    <tr>\n",
                            "      <th>33</th>\n",
                            "      <td>7.790000</td>\n",
                            "      <td>79.17</td>\n",
                            "      <td>81.106598</td>\n",
                            "    </tr>\n",
                            "    <tr>\n",
                            "      <th>34</th>\n",
                            "      <td>5.880000</td>\n",
                            "      <td>73.34</td>\n",
                            "      <td>73.589377</td>\n",
                            "    </tr>\n",
                            "    <tr>\n",
                            "      <th>35</th>\n",
                            "      <td>5.260000</td>\n",
                            "      <td>71.86</td>\n",
                            "      <td>71.149232</td>\n",
                            "    </tr>\n",
                            "    <tr>\n",
                            "      <th>36</th>\n",
                            "      <td>5.450000</td>\n",
                            "      <td>70.06</td>\n",
                            "      <td>71.897018</td>\n",
                            "    </tr>\n",
                            "    <tr>\n",
                            "      <th>37</th>\n",
                            "      <td>7.900000</td>\n",
                            "      <td>80.76</td>\n",
                            "      <td>81.539527</td>\n",
                            "    </tr>\n",
                            "    <tr>\n",
                            "      <th>38</th>\n",
                            "      <td>5.630000</td>\n",
                            "      <td>72.87</td>\n",
                            "      <td>72.605447</td>\n",
                            "    </tr>\n",
                            "    <tr>\n",
                            "      <th>39</th>\n",
                            "      <td>5.460000</td>\n",
                            "      <td>71.10</td>\n",
                            "      <td>71.936375</td>\n",
                            "    </tr>\n",
                            "  </tbody>\n",
                            "</table>\n",
                            "</div>"
                        ]
                    },
                    "metadata": {},
                    "execution_count": 24
                }
            ],
            "metadata": {}
        },
        {
            "cell_type": "code",
            "execution_count": 25,
            "source": [
                "lr.score(X_test,Y_test) # so our model is giving the accuracy of 95.14%"
            ],
            "outputs": [
                {
                    "output_type": "execute_result",
                    "data": {
                        "text/plain": [
                            "0.9514124242154464"
                        ]
                    },
                    "metadata": {},
                    "execution_count": 25
                }
            ],
            "metadata": {}
        },
        {
            "cell_type": "code",
            "execution_count": 26,
            "source": [
                "plt.scatter(X_test,Y_test)"
            ],
            "outputs": [
                {
                    "output_type": "execute_result",
                    "data": {
                        "text/plain": [
                            "<matplotlib.collections.PathCollection at 0x264b86074c0>"
                        ]
                    },
                    "metadata": {},
                    "execution_count": 26
                },
                {
                    "output_type": "display_data",
                    "data": {
                        "text/plain": [
                            "<Figure size 432x288 with 1 Axes>"
                        ],
                        "image/svg+xml": "<?xml version=\"1.0\" encoding=\"utf-8\" standalone=\"no\"?>\r\n<!DOCTYPE svg PUBLIC \"-//W3C//DTD SVG 1.1//EN\"\r\n  \"http://www.w3.org/Graphics/SVG/1.1/DTD/svg11.dtd\">\r\n<svg height=\"248.518125pt\" version=\"1.1\" viewBox=\"0 0 378.465625 248.518125\" width=\"378.465625pt\" xmlns=\"http://www.w3.org/2000/svg\" xmlns:xlink=\"http://www.w3.org/1999/xlink\">\r\n <metadata>\r\n  <rdf:RDF xmlns:cc=\"http://creativecommons.org/ns#\" xmlns:dc=\"http://purl.org/dc/elements/1.1/\" xmlns:rdf=\"http://www.w3.org/1999/02/22-rdf-syntax-ns#\">\r\n   <cc:Work>\r\n    <dc:type rdf:resource=\"http://purl.org/dc/dcmitype/StillImage\"/>\r\n    <dc:date>2021-08-10T17:56:33.252276</dc:date>\r\n    <dc:format>image/svg+xml</dc:format>\r\n    <dc:creator>\r\n     <cc:Agent>\r\n      <dc:title>Matplotlib v3.4.2, https://matplotlib.org/</dc:title>\r\n     </cc:Agent>\r\n    </dc:creator>\r\n   </cc:Work>\r\n  </rdf:RDF>\r\n </metadata>\r\n <defs>\r\n  <style type=\"text/css\">*{stroke-linecap:butt;stroke-linejoin:round;}</style>\r\n </defs>\r\n <g id=\"figure_1\">\r\n  <g id=\"patch_1\">\r\n   <path d=\"M 0 248.518125 \r\nL 378.465625 248.518125 \r\nL 378.465625 0 \r\nL 0 0 \r\nz\r\n\" style=\"fill:none;\"/>\r\n  </g>\r\n  <g id=\"axes_1\">\r\n   <g id=\"patch_2\">\r\n    <path d=\"M 36.465625 224.64 \r\nL 371.265625 224.64 \r\nL 371.265625 7.2 \r\nL 36.465625 7.2 \r\nz\r\n\" style=\"fill:#ffffff;\"/>\r\n   </g>\r\n   <g id=\"PathCollection_1\">\r\n    <defs>\r\n     <path d=\"M 0 3 \r\nC 0.795609 3 1.55874 2.683901 2.12132 2.12132 \r\nC 2.683901 1.55874 3 0.795609 3 0 \r\nC 3 -0.795609 2.683901 -1.55874 2.12132 -2.12132 \r\nC 1.55874 -2.683901 0.795609 -3 0 -3 \r\nC -0.795609 -3 -1.55874 -2.683901 -2.12132 -2.12132 \r\nC -2.683901 -1.55874 -3 -0.795609 -3 0 \r\nC -3 0.795609 -2.683901 1.55874 -2.12132 2.12132 \r\nC -1.55874 2.683901 -0.795609 3 0 3 \r\nz\r\n\" id=\"m0dec833a76\" style=\"stroke:#1f77b4;\"/>\r\n    </defs>\r\n    <g clip-path=\"url(#pa96e55ca85)\">\r\n     <use style=\"fill:#1f77b4;stroke:#1f77b4;\" x=\"302.473232\" xlink:href=\"#m0dec833a76\" y=\"63.748139\"/>\r\n     <use style=\"fill:#1f77b4;stroke:#1f77b4;\" x=\"219.394382\" xlink:href=\"#m0dec833a76\" y=\"116.689846\"/>\r\n     <use style=\"fill:#1f77b4;stroke:#1f77b4;\" x=\"331.201432\" xlink:href=\"#m0dec833a76\" y=\"38.047131\"/>\r\n     <use style=\"fill:#1f77b4;stroke:#1f77b4;\" x=\"356.047443\" xlink:href=\"#m0dec833a76\" y=\"23.005528\"/>\r\n     <use style=\"fill:#1f77b4;stroke:#1f77b4;\" x=\"334.307183\" xlink:href=\"#m0dec833a76\" y=\"39.942136\"/>\r\n     <use style=\"fill:#1f77b4;stroke:#1f77b4;\" x=\"255.886961\" xlink:href=\"#m0dec833a76\" y=\"78.079115\"/>\r\n     <use style=\"fill:#1f77b4;stroke:#1f77b4;\" x=\"99.822953\" xlink:href=\"#m0dec833a76\" y=\"163.354348\"/>\r\n     <use style=\"fill:#1f77b4;stroke:#1f77b4;\" x=\"76.529818\" xlink:href=\"#m0dec833a76\" y=\"195.450998\"/>\r\n     <use style=\"fill:#1f77b4;stroke:#1f77b4;\" x=\"107.587332\" xlink:href=\"#m0dec833a76\" y=\"168.920926\"/>\r\n     <use style=\"fill:#1f77b4;stroke:#1f77b4;\" x=\"76.529818\" xlink:href=\"#m0dec833a76\" y=\"170.34218\"/>\r\n     <use style=\"fill:#1f77b4;stroke:#1f77b4;\" x=\"112.245959\" xlink:href=\"#m0dec833a76\" y=\"146.654615\"/>\r\n     <use style=\"fill:#1f77b4;stroke:#1f77b4;\" x=\"169.70236\" xlink:href=\"#m0dec833a76\" y=\"142.509291\"/>\r\n     <use style=\"fill:#1f77b4;stroke:#1f77b4;\" x=\"107.587332\" xlink:href=\"#m0dec833a76\" y=\"153.524009\"/>\r\n     <use style=\"fill:#1f77b4;stroke:#1f77b4;\" x=\"114.575272\" xlink:href=\"#m0dec833a76\" y=\"165.841543\"/>\r\n     <use style=\"fill:#1f77b4;stroke:#1f77b4;\" x=\"299.36748\" xlink:href=\"#m0dec833a76\" y=\"67.538149\"/>\r\n     <use style=\"fill:#1f77b4;stroke:#1f77b4;\" x=\"51.683807\" xlink:href=\"#m0dec833a76\" y=\"214.756364\"/>\r\n     <use style=\"fill:#1f77b4;stroke:#1f77b4;\" x=\"107.587332\" xlink:href=\"#m0dec833a76\" y=\"162.999035\"/>\r\n     <use style=\"fill:#1f77b4;stroke:#1f77b4;\" x=\"216.288631\" xlink:href=\"#m0dec833a76\" y=\"115.742343\"/>\r\n     <use style=\"fill:#1f77b4;stroke:#1f77b4;\" x=\"153.397165\" xlink:href=\"#m0dec833a76\" y=\"123.085488\"/>\r\n     <use style=\"fill:#1f77b4;stroke:#1f77b4;\" x=\"293.932415\" xlink:href=\"#m0dec833a76\" y=\"51.19373\"/>\r\n     <use style=\"fill:#1f77b4;stroke:#1f77b4;\" x=\"175.137425\" xlink:href=\"#m0dec833a76\" y=\"127.586126\"/>\r\n     <use style=\"fill:#1f77b4;stroke:#1f77b4;\" x=\"53.236683\" xlink:href=\"#m0dec833a76\" y=\"179.817206\"/>\r\n     <use style=\"fill:#1f77b4;stroke:#1f77b4;\" x=\"137.868408\" xlink:href=\"#m0dec833a76\" y=\"171.052807\"/>\r\n     <use style=\"fill:#1f77b4;stroke:#1f77b4;\" x=\"201.221755\" xlink:href=\"#m0dec833a76\" y=\"133.389579\"/>\r\n     <use style=\"fill:#1f77b4;stroke:#1f77b4;\" x=\"351.388816\" xlink:href=\"#m0dec833a76\" y=\"17.083636\"/>\r\n     <use style=\"fill:#1f77b4;stroke:#1f77b4;\" x=\"291.603102\" xlink:href=\"#m0dec833a76\" y=\"47.87747\"/>\r\n     <use style=\"fill:#1f77b4;stroke:#1f77b4;\" x=\"170.478798\" xlink:href=\"#m0dec833a76\" y=\"110.767955\"/>\r\n     <use style=\"fill:#1f77b4;stroke:#1f77b4;\" x=\"340.518686\" xlink:href=\"#m0dec833a76\" y=\"33.19118\"/>\r\n     <use style=\"fill:#1f77b4;stroke:#1f77b4;\" x=\"209.30069\" xlink:href=\"#m0dec833a76\" y=\"126.046434\"/>\r\n     <use style=\"fill:#1f77b4;stroke:#1f77b4;\" x=\"268.309966\" xlink:href=\"#m0dec833a76\" y=\"72.986289\"/>\r\n     <use style=\"fill:#1f77b4;stroke:#1f77b4;\" x=\"275.297907\" xlink:href=\"#m0dec833a76\" y=\"77.486926\"/>\r\n     <use style=\"fill:#1f77b4;stroke:#1f77b4;\" x=\"303.24967\" xlink:href=\"#m0dec833a76\" y=\"55.812805\"/>\r\n     <use style=\"fill:#1f77b4;stroke:#1f77b4;\" x=\"284.615161\" xlink:href=\"#m0dec833a76\" y=\"60.43188\"/>\r\n     <use style=\"fill:#1f77b4;stroke:#1f77b4;\" x=\"262.874901\" xlink:href=\"#m0dec833a76\" y=\"97.502918\"/>\r\n     <use style=\"fill:#1f77b4;stroke:#1f77b4;\" x=\"114.575272\" xlink:href=\"#m0dec833a76\" y=\"166.55217\"/>\r\n     <use style=\"fill:#1f77b4;stroke:#1f77b4;\" x=\"66.436126\" xlink:href=\"#m0dec833a76\" y=\"184.080967\"/>\r\n     <use style=\"fill:#1f77b4;stroke:#1f77b4;\" x=\"81.188445\" xlink:href=\"#m0dec833a76\" y=\"205.399776\"/>\r\n     <use style=\"fill:#1f77b4;stroke:#1f77b4;\" x=\"271.415718\" xlink:href=\"#m0dec833a76\" y=\"78.671305\"/>\r\n     <use style=\"fill:#1f77b4;stroke:#1f77b4;\" x=\"95.164326\" xlink:href=\"#m0dec833a76\" y=\"172.118747\"/>\r\n     <use style=\"fill:#1f77b4;stroke:#1f77b4;\" x=\"81.964883\" xlink:href=\"#m0dec833a76\" y=\"193.082242\"/>\r\n    </g>\r\n   </g>\r\n   <g id=\"matplotlib.axis_1\">\r\n    <g id=\"xtick_1\">\r\n     <g id=\"line2d_1\">\r\n      <defs>\r\n       <path d=\"M 0 0 \r\nL 0 3.5 \r\n\" id=\"m334a4a02e6\" style=\"stroke:#000000;stroke-width:0.8;\"/>\r\n      </defs>\r\n      <g>\r\n       <use style=\"stroke:#000000;stroke-width:0.8;\" x=\"46.248742\" xlink:href=\"#m334a4a02e6\" y=\"224.64\"/>\r\n      </g>\r\n     </g>\r\n     <g id=\"text_1\">\r\n      <!-- 5.0 -->\r\n      <g transform=\"translate(38.297179 239.238438)scale(0.1 -0.1)\">\r\n       <defs>\r\n        <path d=\"M 691 4666 \r\nL 3169 4666 \r\nL 3169 4134 \r\nL 1269 4134 \r\nL 1269 2991 \r\nQ 1406 3038 1543 3061 \r\nQ 1681 3084 1819 3084 \r\nQ 2600 3084 3056 2656 \r\nQ 3513 2228 3513 1497 \r\nQ 3513 744 3044 326 \r\nQ 2575 -91 1722 -91 \r\nQ 1428 -91 1123 -41 \r\nQ 819 9 494 109 \r\nL 494 744 \r\nQ 775 591 1075 516 \r\nQ 1375 441 1709 441 \r\nQ 2250 441 2565 725 \r\nQ 2881 1009 2881 1497 \r\nQ 2881 1984 2565 2268 \r\nQ 2250 2553 1709 2553 \r\nQ 1456 2553 1204 2497 \r\nQ 953 2441 691 2322 \r\nL 691 4666 \r\nz\r\n\" id=\"DejaVuSans-35\" transform=\"scale(0.015625)\"/>\r\n        <path d=\"M 684 794 \r\nL 1344 794 \r\nL 1344 0 \r\nL 684 0 \r\nL 684 794 \r\nz\r\n\" id=\"DejaVuSans-2e\" transform=\"scale(0.015625)\"/>\r\n        <path d=\"M 2034 4250 \r\nQ 1547 4250 1301 3770 \r\nQ 1056 3291 1056 2328 \r\nQ 1056 1369 1301 889 \r\nQ 1547 409 2034 409 \r\nQ 2525 409 2770 889 \r\nQ 3016 1369 3016 2328 \r\nQ 3016 3291 2770 3770 \r\nQ 2525 4250 2034 4250 \r\nz\r\nM 2034 4750 \r\nQ 2819 4750 3233 4129 \r\nQ 3647 3509 3647 2328 \r\nQ 3647 1150 3233 529 \r\nQ 2819 -91 2034 -91 \r\nQ 1250 -91 836 529 \r\nQ 422 1150 422 2328 \r\nQ 422 3509 836 4129 \r\nQ 1250 4750 2034 4750 \r\nz\r\n\" id=\"DejaVuSans-30\" transform=\"scale(0.015625)\"/>\r\n       </defs>\r\n       <use xlink:href=\"#DejaVuSans-35\"/>\r\n       <use x=\"63.623047\" xlink:href=\"#DejaVuSans-2e\"/>\r\n       <use x=\"95.410156\" xlink:href=\"#DejaVuSans-30\"/>\r\n      </g>\r\n     </g>\r\n    </g>\r\n    <g id=\"xtick_2\">\r\n     <g id=\"line2d_2\">\r\n      <g>\r\n       <use style=\"stroke:#000000;stroke-width:0.8;\" x=\"85.070634\" xlink:href=\"#m334a4a02e6\" y=\"224.64\"/>\r\n      </g>\r\n     </g>\r\n     <g id=\"text_2\">\r\n      <!-- 5.5 -->\r\n      <g transform=\"translate(77.119072 239.238438)scale(0.1 -0.1)\">\r\n       <use xlink:href=\"#DejaVuSans-35\"/>\r\n       <use x=\"63.623047\" xlink:href=\"#DejaVuSans-2e\"/>\r\n       <use x=\"95.410156\" xlink:href=\"#DejaVuSans-35\"/>\r\n      </g>\r\n     </g>\r\n    </g>\r\n    <g id=\"xtick_3\">\r\n     <g id=\"line2d_3\">\r\n      <g>\r\n       <use style=\"stroke:#000000;stroke-width:0.8;\" x=\"123.892527\" xlink:href=\"#m334a4a02e6\" y=\"224.64\"/>\r\n      </g>\r\n     </g>\r\n     <g id=\"text_3\">\r\n      <!-- 6.0 -->\r\n      <g transform=\"translate(115.940964 239.238438)scale(0.1 -0.1)\">\r\n       <defs>\r\n        <path d=\"M 2113 2584 \r\nQ 1688 2584 1439 2293 \r\nQ 1191 2003 1191 1497 \r\nQ 1191 994 1439 701 \r\nQ 1688 409 2113 409 \r\nQ 2538 409 2786 701 \r\nQ 3034 994 3034 1497 \r\nQ 3034 2003 2786 2293 \r\nQ 2538 2584 2113 2584 \r\nz\r\nM 3366 4563 \r\nL 3366 3988 \r\nQ 3128 4100 2886 4159 \r\nQ 2644 4219 2406 4219 \r\nQ 1781 4219 1451 3797 \r\nQ 1122 3375 1075 2522 \r\nQ 1259 2794 1537 2939 \r\nQ 1816 3084 2150 3084 \r\nQ 2853 3084 3261 2657 \r\nQ 3669 2231 3669 1497 \r\nQ 3669 778 3244 343 \r\nQ 2819 -91 2113 -91 \r\nQ 1303 -91 875 529 \r\nQ 447 1150 447 2328 \r\nQ 447 3434 972 4092 \r\nQ 1497 4750 2381 4750 \r\nQ 2619 4750 2861 4703 \r\nQ 3103 4656 3366 4563 \r\nz\r\n\" id=\"DejaVuSans-36\" transform=\"scale(0.015625)\"/>\r\n       </defs>\r\n       <use xlink:href=\"#DejaVuSans-36\"/>\r\n       <use x=\"63.623047\" xlink:href=\"#DejaVuSans-2e\"/>\r\n       <use x=\"95.410156\" xlink:href=\"#DejaVuSans-30\"/>\r\n      </g>\r\n     </g>\r\n    </g>\r\n    <g id=\"xtick_4\">\r\n     <g id=\"line2d_4\">\r\n      <g>\r\n       <use style=\"stroke:#000000;stroke-width:0.8;\" x=\"162.714419\" xlink:href=\"#m334a4a02e6\" y=\"224.64\"/>\r\n      </g>\r\n     </g>\r\n     <g id=\"text_4\">\r\n      <!-- 6.5 -->\r\n      <g transform=\"translate(154.762857 239.238438)scale(0.1 -0.1)\">\r\n       <use xlink:href=\"#DejaVuSans-36\"/>\r\n       <use x=\"63.623047\" xlink:href=\"#DejaVuSans-2e\"/>\r\n       <use x=\"95.410156\" xlink:href=\"#DejaVuSans-35\"/>\r\n      </g>\r\n     </g>\r\n    </g>\r\n    <g id=\"xtick_5\">\r\n     <g id=\"line2d_5\">\r\n      <g>\r\n       <use style=\"stroke:#000000;stroke-width:0.8;\" x=\"201.536311\" xlink:href=\"#m334a4a02e6\" y=\"224.64\"/>\r\n      </g>\r\n     </g>\r\n     <g id=\"text_5\">\r\n      <!-- 7.0 -->\r\n      <g transform=\"translate(193.584749 239.238438)scale(0.1 -0.1)\">\r\n       <defs>\r\n        <path d=\"M 525 4666 \r\nL 3525 4666 \r\nL 3525 4397 \r\nL 1831 0 \r\nL 1172 0 \r\nL 2766 4134 \r\nL 525 4134 \r\nL 525 4666 \r\nz\r\n\" id=\"DejaVuSans-37\" transform=\"scale(0.015625)\"/>\r\n       </defs>\r\n       <use xlink:href=\"#DejaVuSans-37\"/>\r\n       <use x=\"63.623047\" xlink:href=\"#DejaVuSans-2e\"/>\r\n       <use x=\"95.410156\" xlink:href=\"#DejaVuSans-30\"/>\r\n      </g>\r\n     </g>\r\n    </g>\r\n    <g id=\"xtick_6\">\r\n     <g id=\"line2d_6\">\r\n      <g>\r\n       <use style=\"stroke:#000000;stroke-width:0.8;\" x=\"240.358204\" xlink:href=\"#m334a4a02e6\" y=\"224.64\"/>\r\n      </g>\r\n     </g>\r\n     <g id=\"text_6\">\r\n      <!-- 7.5 -->\r\n      <g transform=\"translate(232.406641 239.238438)scale(0.1 -0.1)\">\r\n       <use xlink:href=\"#DejaVuSans-37\"/>\r\n       <use x=\"63.623047\" xlink:href=\"#DejaVuSans-2e\"/>\r\n       <use x=\"95.410156\" xlink:href=\"#DejaVuSans-35\"/>\r\n      </g>\r\n     </g>\r\n    </g>\r\n    <g id=\"xtick_7\">\r\n     <g id=\"line2d_7\">\r\n      <g>\r\n       <use style=\"stroke:#000000;stroke-width:0.8;\" x=\"279.180096\" xlink:href=\"#m334a4a02e6\" y=\"224.64\"/>\r\n      </g>\r\n     </g>\r\n     <g id=\"text_7\">\r\n      <!-- 8.0 -->\r\n      <g transform=\"translate(271.228534 239.238438)scale(0.1 -0.1)\">\r\n       <defs>\r\n        <path d=\"M 2034 2216 \r\nQ 1584 2216 1326 1975 \r\nQ 1069 1734 1069 1313 \r\nQ 1069 891 1326 650 \r\nQ 1584 409 2034 409 \r\nQ 2484 409 2743 651 \r\nQ 3003 894 3003 1313 \r\nQ 3003 1734 2745 1975 \r\nQ 2488 2216 2034 2216 \r\nz\r\nM 1403 2484 \r\nQ 997 2584 770 2862 \r\nQ 544 3141 544 3541 \r\nQ 544 4100 942 4425 \r\nQ 1341 4750 2034 4750 \r\nQ 2731 4750 3128 4425 \r\nQ 3525 4100 3525 3541 \r\nQ 3525 3141 3298 2862 \r\nQ 3072 2584 2669 2484 \r\nQ 3125 2378 3379 2068 \r\nQ 3634 1759 3634 1313 \r\nQ 3634 634 3220 271 \r\nQ 2806 -91 2034 -91 \r\nQ 1263 -91 848 271 \r\nQ 434 634 434 1313 \r\nQ 434 1759 690 2068 \r\nQ 947 2378 1403 2484 \r\nz\r\nM 1172 3481 \r\nQ 1172 3119 1398 2916 \r\nQ 1625 2713 2034 2713 \r\nQ 2441 2713 2670 2916 \r\nQ 2900 3119 2900 3481 \r\nQ 2900 3844 2670 4047 \r\nQ 2441 4250 2034 4250 \r\nQ 1625 4250 1398 4047 \r\nQ 1172 3844 1172 3481 \r\nz\r\n\" id=\"DejaVuSans-38\" transform=\"scale(0.015625)\"/>\r\n       </defs>\r\n       <use xlink:href=\"#DejaVuSans-38\"/>\r\n       <use x=\"63.623047\" xlink:href=\"#DejaVuSans-2e\"/>\r\n       <use x=\"95.410156\" xlink:href=\"#DejaVuSans-30\"/>\r\n      </g>\r\n     </g>\r\n    </g>\r\n    <g id=\"xtick_8\">\r\n     <g id=\"line2d_8\">\r\n      <g>\r\n       <use style=\"stroke:#000000;stroke-width:0.8;\" x=\"318.001989\" xlink:href=\"#m334a4a02e6\" y=\"224.64\"/>\r\n      </g>\r\n     </g>\r\n     <g id=\"text_8\">\r\n      <!-- 8.5 -->\r\n      <g transform=\"translate(310.050426 239.238438)scale(0.1 -0.1)\">\r\n       <use xlink:href=\"#DejaVuSans-38\"/>\r\n       <use x=\"63.623047\" xlink:href=\"#DejaVuSans-2e\"/>\r\n       <use x=\"95.410156\" xlink:href=\"#DejaVuSans-35\"/>\r\n      </g>\r\n     </g>\r\n    </g>\r\n    <g id=\"xtick_9\">\r\n     <g id=\"line2d_9\">\r\n      <g>\r\n       <use style=\"stroke:#000000;stroke-width:0.8;\" x=\"356.823881\" xlink:href=\"#m334a4a02e6\" y=\"224.64\"/>\r\n      </g>\r\n     </g>\r\n     <g id=\"text_9\">\r\n      <!-- 9.0 -->\r\n      <g transform=\"translate(348.872319 239.238438)scale(0.1 -0.1)\">\r\n       <defs>\r\n        <path d=\"M 703 97 \r\nL 703 672 \r\nQ 941 559 1184 500 \r\nQ 1428 441 1663 441 \r\nQ 2288 441 2617 861 \r\nQ 2947 1281 2994 2138 \r\nQ 2813 1869 2534 1725 \r\nQ 2256 1581 1919 1581 \r\nQ 1219 1581 811 2004 \r\nQ 403 2428 403 3163 \r\nQ 403 3881 828 4315 \r\nQ 1253 4750 1959 4750 \r\nQ 2769 4750 3195 4129 \r\nQ 3622 3509 3622 2328 \r\nQ 3622 1225 3098 567 \r\nQ 2575 -91 1691 -91 \r\nQ 1453 -91 1209 -44 \r\nQ 966 3 703 97 \r\nz\r\nM 1959 2075 \r\nQ 2384 2075 2632 2365 \r\nQ 2881 2656 2881 3163 \r\nQ 2881 3666 2632 3958 \r\nQ 2384 4250 1959 4250 \r\nQ 1534 4250 1286 3958 \r\nQ 1038 3666 1038 3163 \r\nQ 1038 2656 1286 2365 \r\nQ 1534 2075 1959 2075 \r\nz\r\n\" id=\"DejaVuSans-39\" transform=\"scale(0.015625)\"/>\r\n       </defs>\r\n       <use xlink:href=\"#DejaVuSans-39\"/>\r\n       <use x=\"63.623047\" xlink:href=\"#DejaVuSans-2e\"/>\r\n       <use x=\"95.410156\" xlink:href=\"#DejaVuSans-30\"/>\r\n      </g>\r\n     </g>\r\n    </g>\r\n   </g>\r\n   <g id=\"matplotlib.axis_2\">\r\n    <g id=\"ytick_1\">\r\n     <g id=\"line2d_10\">\r\n      <defs>\r\n       <path d=\"M 0 0 \r\nL -3.5 0 \r\n\" id=\"m5dd76c31a4\" style=\"stroke:#000000;stroke-width:0.8;\"/>\r\n      </defs>\r\n      <g>\r\n       <use style=\"stroke:#000000;stroke-width:0.8;\" x=\"36.465625\" xlink:href=\"#m5dd76c31a4\" y=\"206.110403\"/>\r\n      </g>\r\n     </g>\r\n     <g id=\"text_10\">\r\n      <!-- 70.0 -->\r\n      <g transform=\"translate(7.2 209.909621)scale(0.1 -0.1)\">\r\n       <use xlink:href=\"#DejaVuSans-37\"/>\r\n       <use x=\"63.623047\" xlink:href=\"#DejaVuSans-30\"/>\r\n       <use x=\"127.246094\" xlink:href=\"#DejaVuSans-2e\"/>\r\n       <use x=\"159.033203\" xlink:href=\"#DejaVuSans-30\"/>\r\n      </g>\r\n     </g>\r\n    </g>\r\n    <g id=\"ytick_2\">\r\n     <g id=\"line2d_11\">\r\n      <g>\r\n       <use style=\"stroke:#000000;stroke-width:0.8;\" x=\"36.465625\" xlink:href=\"#m5dd76c31a4\" y=\"176.500947\"/>\r\n      </g>\r\n     </g>\r\n     <g id=\"text_11\">\r\n      <!-- 72.5 -->\r\n      <g transform=\"translate(7.2 180.300165)scale(0.1 -0.1)\">\r\n       <defs>\r\n        <path d=\"M 1228 531 \r\nL 3431 531 \r\nL 3431 0 \r\nL 469 0 \r\nL 469 531 \r\nQ 828 903 1448 1529 \r\nQ 2069 2156 2228 2338 \r\nQ 2531 2678 2651 2914 \r\nQ 2772 3150 2772 3378 \r\nQ 2772 3750 2511 3984 \r\nQ 2250 4219 1831 4219 \r\nQ 1534 4219 1204 4116 \r\nQ 875 4013 500 3803 \r\nL 500 4441 \r\nQ 881 4594 1212 4672 \r\nQ 1544 4750 1819 4750 \r\nQ 2544 4750 2975 4387 \r\nQ 3406 4025 3406 3419 \r\nQ 3406 3131 3298 2873 \r\nQ 3191 2616 2906 2266 \r\nQ 2828 2175 2409 1742 \r\nQ 1991 1309 1228 531 \r\nz\r\n\" id=\"DejaVuSans-32\" transform=\"scale(0.015625)\"/>\r\n       </defs>\r\n       <use xlink:href=\"#DejaVuSans-37\"/>\r\n       <use x=\"63.623047\" xlink:href=\"#DejaVuSans-32\"/>\r\n       <use x=\"127.246094\" xlink:href=\"#DejaVuSans-2e\"/>\r\n       <use x=\"159.033203\" xlink:href=\"#DejaVuSans-35\"/>\r\n      </g>\r\n     </g>\r\n    </g>\r\n    <g id=\"ytick_3\">\r\n     <g id=\"line2d_12\">\r\n      <g>\r\n       <use style=\"stroke:#000000;stroke-width:0.8;\" x=\"36.465625\" xlink:href=\"#m5dd76c31a4\" y=\"146.891491\"/>\r\n      </g>\r\n     </g>\r\n     <g id=\"text_12\">\r\n      <!-- 75.0 -->\r\n      <g transform=\"translate(7.2 150.69071)scale(0.1 -0.1)\">\r\n       <use xlink:href=\"#DejaVuSans-37\"/>\r\n       <use x=\"63.623047\" xlink:href=\"#DejaVuSans-35\"/>\r\n       <use x=\"127.246094\" xlink:href=\"#DejaVuSans-2e\"/>\r\n       <use x=\"159.033203\" xlink:href=\"#DejaVuSans-30\"/>\r\n      </g>\r\n     </g>\r\n    </g>\r\n    <g id=\"ytick_4\">\r\n     <g id=\"line2d_13\">\r\n      <g>\r\n       <use style=\"stroke:#000000;stroke-width:0.8;\" x=\"36.465625\" xlink:href=\"#m5dd76c31a4\" y=\"117.282035\"/>\r\n      </g>\r\n     </g>\r\n     <g id=\"text_13\">\r\n      <!-- 77.5 -->\r\n      <g transform=\"translate(7.2 121.081254)scale(0.1 -0.1)\">\r\n       <use xlink:href=\"#DejaVuSans-37\"/>\r\n       <use x=\"63.623047\" xlink:href=\"#DejaVuSans-37\"/>\r\n       <use x=\"127.246094\" xlink:href=\"#DejaVuSans-2e\"/>\r\n       <use x=\"159.033203\" xlink:href=\"#DejaVuSans-35\"/>\r\n      </g>\r\n     </g>\r\n    </g>\r\n    <g id=\"ytick_5\">\r\n     <g id=\"line2d_14\">\r\n      <g>\r\n       <use style=\"stroke:#000000;stroke-width:0.8;\" x=\"36.465625\" xlink:href=\"#m5dd76c31a4\" y=\"87.672579\"/>\r\n      </g>\r\n     </g>\r\n     <g id=\"text_14\">\r\n      <!-- 80.0 -->\r\n      <g transform=\"translate(7.2 91.471798)scale(0.1 -0.1)\">\r\n       <use xlink:href=\"#DejaVuSans-38\"/>\r\n       <use x=\"63.623047\" xlink:href=\"#DejaVuSans-30\"/>\r\n       <use x=\"127.246094\" xlink:href=\"#DejaVuSans-2e\"/>\r\n       <use x=\"159.033203\" xlink:href=\"#DejaVuSans-30\"/>\r\n      </g>\r\n     </g>\r\n    </g>\r\n    <g id=\"ytick_6\">\r\n     <g id=\"line2d_15\">\r\n      <g>\r\n       <use style=\"stroke:#000000;stroke-width:0.8;\" x=\"36.465625\" xlink:href=\"#m5dd76c31a4\" y=\"58.063123\"/>\r\n      </g>\r\n     </g>\r\n     <g id=\"text_15\">\r\n      <!-- 82.5 -->\r\n      <g transform=\"translate(7.2 61.862342)scale(0.1 -0.1)\">\r\n       <use xlink:href=\"#DejaVuSans-38\"/>\r\n       <use x=\"63.623047\" xlink:href=\"#DejaVuSans-32\"/>\r\n       <use x=\"127.246094\" xlink:href=\"#DejaVuSans-2e\"/>\r\n       <use x=\"159.033203\" xlink:href=\"#DejaVuSans-35\"/>\r\n      </g>\r\n     </g>\r\n    </g>\r\n    <g id=\"ytick_7\">\r\n     <g id=\"line2d_16\">\r\n      <g>\r\n       <use style=\"stroke:#000000;stroke-width:0.8;\" x=\"36.465625\" xlink:href=\"#m5dd76c31a4\" y=\"28.453667\"/>\r\n      </g>\r\n     </g>\r\n     <g id=\"text_16\">\r\n      <!-- 85.0 -->\r\n      <g transform=\"translate(7.2 32.252886)scale(0.1 -0.1)\">\r\n       <use xlink:href=\"#DejaVuSans-38\"/>\r\n       <use x=\"63.623047\" xlink:href=\"#DejaVuSans-35\"/>\r\n       <use x=\"127.246094\" xlink:href=\"#DejaVuSans-2e\"/>\r\n       <use x=\"159.033203\" xlink:href=\"#DejaVuSans-30\"/>\r\n      </g>\r\n     </g>\r\n    </g>\r\n   </g>\r\n   <g id=\"patch_3\">\r\n    <path d=\"M 36.465625 224.64 \r\nL 36.465625 7.2 \r\n\" style=\"fill:none;stroke:#000000;stroke-linecap:square;stroke-linejoin:miter;stroke-width:0.8;\"/>\r\n   </g>\r\n   <g id=\"patch_4\">\r\n    <path d=\"M 371.265625 224.64 \r\nL 371.265625 7.2 \r\n\" style=\"fill:none;stroke:#000000;stroke-linecap:square;stroke-linejoin:miter;stroke-width:0.8;\"/>\r\n   </g>\r\n   <g id=\"patch_5\">\r\n    <path d=\"M 36.465625 224.64 \r\nL 371.265625 224.64 \r\n\" style=\"fill:none;stroke:#000000;stroke-linecap:square;stroke-linejoin:miter;stroke-width:0.8;\"/>\r\n   </g>\r\n   <g id=\"patch_6\">\r\n    <path d=\"M 36.465625 7.2 \r\nL 371.265625 7.2 \r\n\" style=\"fill:none;stroke:#000000;stroke-linecap:square;stroke-linejoin:miter;stroke-width:0.8;\"/>\r\n   </g>\r\n  </g>\r\n </g>\r\n <defs>\r\n  <clipPath id=\"pa96e55ca85\">\r\n   <rect height=\"217.44\" width=\"334.8\" x=\"36.465625\" y=\"7.2\"/>\r\n  </clipPath>\r\n </defs>\r\n</svg>\r\n",
                        "image/png": "[encoded data removed]"
                    },
                    "metadata": {
                        "needs_background": "light"
                    }
                }
            ],
            "metadata": {}
        },
        {
            "cell_type": "code",
            "execution_count": 27,
            "source": [
                "plt.scatter(X_test,Y_test)\r\n",
                "plt.plot(X_train,lr.predict(X_train),color=\"red\")"
            ],
            "outputs": [
                {
                    "output_type": "execute_result",
                    "data": {
                        "text/plain": [
                            "[<matplotlib.lines.Line2D at 0x264b8679ca0>]"
                        ]
                    },
                    "metadata": {},
                    "execution_count": 27
                },
                {
                    "output_type": "display_data",
                    "data": {
                        "text/plain": [
                            "<Figure size 432x288 with 1 Axes>"
                        ],
                        "image/svg+xml": "<?xml version=\"1.0\" encoding=\"utf-8\" standalone=\"no\"?>\r\n<!DOCTYPE svg PUBLIC \"-//W3C//DTD SVG 1.1//EN\"\r\n  \"http://www.w3.org/Graphics/SVG/1.1/DTD/svg11.dtd\">\r\n<svg height=\"248.518125pt\" version=\"1.1\" viewBox=\"0 0 378.465625 248.518125\" width=\"378.465625pt\" xmlns=\"http://www.w3.org/2000/svg\" xmlns:xlink=\"http://www.w3.org/1999/xlink\">\r\n <metadata>\r\n  <rdf:RDF xmlns:cc=\"http://creativecommons.org/ns#\" xmlns:dc=\"http://purl.org/dc/elements/1.1/\" xmlns:rdf=\"http://www.w3.org/1999/02/22-rdf-syntax-ns#\">\r\n   <cc:Work>\r\n    <dc:type rdf:resource=\"http://purl.org/dc/dcmitype/StillImage\"/>\r\n    <dc:date>2021-08-10T17:56:33.754228</dc:date>\r\n    <dc:format>image/svg+xml</dc:format>\r\n    <dc:creator>\r\n     <cc:Agent>\r\n      <dc:title>Matplotlib v3.4.2, https://matplotlib.org/</dc:title>\r\n     </cc:Agent>\r\n    </dc:creator>\r\n   </cc:Work>\r\n  </rdf:RDF>\r\n </metadata>\r\n <defs>\r\n  <style type=\"text/css\">*{stroke-linecap:butt;stroke-linejoin:round;}</style>\r\n </defs>\r\n <g id=\"figure_1\">\r\n  <g id=\"patch_1\">\r\n   <path d=\"M 0 248.518125 \r\nL 378.465625 248.518125 \r\nL 378.465625 0 \r\nL 0 0 \r\nz\r\n\" style=\"fill:none;\"/>\r\n  </g>\r\n  <g id=\"axes_1\">\r\n   <g id=\"patch_2\">\r\n    <path d=\"M 36.465625 224.64 \r\nL 371.265625 224.64 \r\nL 371.265625 7.2 \r\nL 36.465625 7.2 \r\nz\r\n\" style=\"fill:#ffffff;\"/>\r\n   </g>\r\n   <g id=\"PathCollection_1\">\r\n    <defs>\r\n     <path d=\"M 0 3 \r\nC 0.795609 3 1.55874 2.683901 2.12132 2.12132 \r\nC 2.683901 1.55874 3 0.795609 3 0 \r\nC 3 -0.795609 2.683901 -1.55874 2.12132 -2.12132 \r\nC 1.55874 -2.683901 0.795609 -3 0 -3 \r\nC -0.795609 -3 -1.55874 -2.683901 -2.12132 -2.12132 \r\nC -2.683901 -1.55874 -3 -0.795609 -3 0 \r\nC -3 0.795609 -2.683901 1.55874 -2.12132 2.12132 \r\nC -1.55874 2.683901 -0.795609 3 0 3 \r\nz\r\n\" id=\"mabfdb4c0ba\" style=\"stroke:#1f77b4;\"/>\r\n    </defs>\r\n    <g clip-path=\"url(#pb71a06638e)\">\r\n     <use style=\"fill:#1f77b4;stroke:#1f77b4;\" x=\"303.280883\" xlink:href=\"#mabfdb4c0ba\" y=\"63.748139\"/>\r\n     <use style=\"fill:#1f77b4;stroke:#1f77b4;\" x=\"221.454478\" xlink:href=\"#mabfdb4c0ba\" y=\"116.689846\"/>\r\n     <use style=\"fill:#1f77b4;stroke:#1f77b4;\" x=\"331.575995\" xlink:href=\"#mabfdb4c0ba\" y=\"38.047131\"/>\r\n     <use style=\"fill:#1f77b4;stroke:#1f77b4;\" x=\"356.047443\" xlink:href=\"#mabfdb4c0ba\" y=\"23.005528\"/>\r\n     <use style=\"fill:#1f77b4;stroke:#1f77b4;\" x=\"334.634926\" xlink:href=\"#mabfdb4c0ba\" y=\"39.942136\"/>\r\n     <use style=\"fill:#1f77b4;stroke:#1f77b4;\" x=\"257.396918\" xlink:href=\"#mabfdb4c0ba\" y=\"78.079115\"/>\r\n     <use style=\"fill:#1f77b4;stroke:#1f77b4;\" x=\"103.685634\" xlink:href=\"#mabfdb4c0ba\" y=\"163.354348\"/>\r\n     <use style=\"fill:#1f77b4;stroke:#1f77b4;\" x=\"80.743651\" xlink:href=\"#mabfdb4c0ba\" y=\"195.450998\"/>\r\n     <use style=\"fill:#1f77b4;stroke:#1f77b4;\" x=\"111.332962\" xlink:href=\"#mabfdb4c0ba\" y=\"168.920926\"/>\r\n     <use style=\"fill:#1f77b4;stroke:#1f77b4;\" x=\"80.743651\" xlink:href=\"#mabfdb4c0ba\" y=\"170.34218\"/>\r\n     <use style=\"fill:#1f77b4;stroke:#1f77b4;\" x=\"115.921358\" xlink:href=\"#mabfdb4c0ba\" y=\"146.654615\"/>\r\n     <use style=\"fill:#1f77b4;stroke:#1f77b4;\" x=\"172.511582\" xlink:href=\"#mabfdb4c0ba\" y=\"142.509291\"/>\r\n     <use style=\"fill:#1f77b4;stroke:#1f77b4;\" x=\"111.332962\" xlink:href=\"#mabfdb4c0ba\" y=\"153.524009\"/>\r\n     <use style=\"fill:#1f77b4;stroke:#1f77b4;\" x=\"118.215556\" xlink:href=\"#mabfdb4c0ba\" y=\"165.841543\"/>\r\n     <use style=\"fill:#1f77b4;stroke:#1f77b4;\" x=\"300.221952\" xlink:href=\"#mabfdb4c0ba\" y=\"67.538149\"/>\r\n     <use style=\"fill:#1f77b4;stroke:#1f77b4;\" x=\"56.272203\" xlink:href=\"#mabfdb4c0ba\" y=\"214.756364\"/>\r\n     <use style=\"fill:#1f77b4;stroke:#1f77b4;\" x=\"111.332962\" xlink:href=\"#mabfdb4c0ba\" y=\"162.999035\"/>\r\n     <use style=\"fill:#1f77b4;stroke:#1f77b4;\" x=\"218.395547\" xlink:href=\"#mabfdb4c0ba\" y=\"115.742343\"/>\r\n     <use style=\"fill:#1f77b4;stroke:#1f77b4;\" x=\"156.452194\" xlink:href=\"#mabfdb4c0ba\" y=\"123.085488\"/>\r\n     <use style=\"fill:#1f77b4;stroke:#1f77b4;\" x=\"294.868823\" xlink:href=\"#mabfdb4c0ba\" y=\"51.19373\"/>\r\n     <use style=\"fill:#1f77b4;stroke:#1f77b4;\" x=\"177.864711\" xlink:href=\"#mabfdb4c0ba\" y=\"127.586126\"/>\r\n     <use style=\"fill:#1f77b4;stroke:#1f77b4;\" x=\"57.801669\" xlink:href=\"#mabfdb4c0ba\" y=\"179.817206\"/>\r\n     <use style=\"fill:#1f77b4;stroke:#1f77b4;\" x=\"141.157539\" xlink:href=\"#mabfdb4c0ba\" y=\"171.052807\"/>\r\n     <use style=\"fill:#1f77b4;stroke:#1f77b4;\" x=\"203.55581\" xlink:href=\"#mabfdb4c0ba\" y=\"133.389579\"/>\r\n     <use style=\"fill:#1f77b4;stroke:#1f77b4;\" x=\"351.459047\" xlink:href=\"#mabfdb4c0ba\" y=\"17.083636\"/>\r\n     <use style=\"fill:#1f77b4;stroke:#1f77b4;\" x=\"292.574625\" xlink:href=\"#mabfdb4c0ba\" y=\"47.87747\"/>\r\n     <use style=\"fill:#1f77b4;stroke:#1f77b4;\" x=\"173.276315\" xlink:href=\"#mabfdb4c0ba\" y=\"110.767955\"/>\r\n     <use style=\"fill:#1f77b4;stroke:#1f77b4;\" x=\"340.752788\" xlink:href=\"#mabfdb4c0ba\" y=\"33.19118\"/>\r\n     <use style=\"fill:#1f77b4;stroke:#1f77b4;\" x=\"211.512953\" xlink:href=\"#mabfdb4c0ba\" y=\"126.046434\"/>\r\n     <use style=\"fill:#1f77b4;stroke:#1f77b4;\" x=\"269.632642\" xlink:href=\"#mabfdb4c0ba\" y=\"72.986289\"/>\r\n     <use style=\"fill:#1f77b4;stroke:#1f77b4;\" x=\"276.515237\" xlink:href=\"#mabfdb4c0ba\" y=\"77.486926\"/>\r\n     <use style=\"fill:#1f77b4;stroke:#1f77b4;\" x=\"304.045616\" xlink:href=\"#mabfdb4c0ba\" y=\"55.812805\"/>\r\n     <use style=\"fill:#1f77b4;stroke:#1f77b4;\" x=\"285.69203\" xlink:href=\"#mabfdb4c0ba\" y=\"60.43188\"/>\r\n     <use style=\"fill:#1f77b4;stroke:#1f77b4;\" x=\"264.279513\" xlink:href=\"#mabfdb4c0ba\" y=\"97.502918\"/>\r\n     <use style=\"fill:#1f77b4;stroke:#1f77b4;\" x=\"118.215556\" xlink:href=\"#mabfdb4c0ba\" y=\"166.55217\"/>\r\n     <use style=\"fill:#1f77b4;stroke:#1f77b4;\" x=\"70.802126\" xlink:href=\"#mabfdb4c0ba\" y=\"184.080967\"/>\r\n     <use style=\"fill:#1f77b4;stroke:#1f77b4;\" x=\"85.332048\" xlink:href=\"#mabfdb4c0ba\" y=\"205.399776\"/>\r\n     <use style=\"fill:#1f77b4;stroke:#1f77b4;\" x=\"272.691573\" xlink:href=\"#mabfdb4c0ba\" y=\"78.671305\"/>\r\n     <use style=\"fill:#1f77b4;stroke:#1f77b4;\" x=\"99.097238\" xlink:href=\"#mabfdb4c0ba\" y=\"172.118747\"/>\r\n     <use style=\"fill:#1f77b4;stroke:#1f77b4;\" x=\"86.096781\" xlink:href=\"#mabfdb4c0ba\" y=\"193.082242\"/>\r\n    </g>\r\n   </g>\r\n   <g id=\"matplotlib.axis_1\">\r\n    <g id=\"xtick_1\">\r\n     <g id=\"line2d_1\">\r\n      <defs>\r\n       <path d=\"M 0 0 \r\nL 0 3.5 \r\n\" id=\"mb4d40276dd\" style=\"stroke:#000000;stroke-width:0.8;\"/>\r\n      </defs>\r\n      <g>\r\n       <use style=\"stroke:#000000;stroke-width:0.8;\" x=\"50.919074\" xlink:href=\"#mb4d40276dd\" y=\"224.64\"/>\r\n      </g>\r\n     </g>\r\n     <g id=\"text_1\">\r\n      <!-- 5.0 -->\r\n      <g transform=\"translate(42.967512 239.238438)scale(0.1 -0.1)\">\r\n       <defs>\r\n        <path d=\"M 691 4666 \r\nL 3169 4666 \r\nL 3169 4134 \r\nL 1269 4134 \r\nL 1269 2991 \r\nQ 1406 3038 1543 3061 \r\nQ 1681 3084 1819 3084 \r\nQ 2600 3084 3056 2656 \r\nQ 3513 2228 3513 1497 \r\nQ 3513 744 3044 326 \r\nQ 2575 -91 1722 -91 \r\nQ 1428 -91 1123 -41 \r\nQ 819 9 494 109 \r\nL 494 744 \r\nQ 775 591 1075 516 \r\nQ 1375 441 1709 441 \r\nQ 2250 441 2565 725 \r\nQ 2881 1009 2881 1497 \r\nQ 2881 1984 2565 2268 \r\nQ 2250 2553 1709 2553 \r\nQ 1456 2553 1204 2497 \r\nQ 953 2441 691 2322 \r\nL 691 4666 \r\nz\r\n\" id=\"DejaVuSans-35\" transform=\"scale(0.015625)\"/>\r\n        <path d=\"M 684 794 \r\nL 1344 794 \r\nL 1344 0 \r\nL 684 0 \r\nL 684 794 \r\nz\r\n\" id=\"DejaVuSans-2e\" transform=\"scale(0.015625)\"/>\r\n        <path d=\"M 2034 4250 \r\nQ 1547 4250 1301 3770 \r\nQ 1056 3291 1056 2328 \r\nQ 1056 1369 1301 889 \r\nQ 1547 409 2034 409 \r\nQ 2525 409 2770 889 \r\nQ 3016 1369 3016 2328 \r\nQ 3016 3291 2770 3770 \r\nQ 2525 4250 2034 4250 \r\nz\r\nM 2034 4750 \r\nQ 2819 4750 3233 4129 \r\nQ 3647 3509 3647 2328 \r\nQ 3647 1150 3233 529 \r\nQ 2819 -91 2034 -91 \r\nQ 1250 -91 836 529 \r\nQ 422 1150 422 2328 \r\nQ 422 3509 836 4129 \r\nQ 1250 4750 2034 4750 \r\nz\r\n\" id=\"DejaVuSans-30\" transform=\"scale(0.015625)\"/>\r\n       </defs>\r\n       <use xlink:href=\"#DejaVuSans-35\"/>\r\n       <use x=\"63.623047\" xlink:href=\"#DejaVuSans-2e\"/>\r\n       <use x=\"95.410156\" xlink:href=\"#DejaVuSans-30\"/>\r\n      </g>\r\n     </g>\r\n    </g>\r\n    <g id=\"xtick_2\">\r\n     <g id=\"line2d_2\">\r\n      <g>\r\n       <use style=\"stroke:#000000;stroke-width:0.8;\" x=\"89.155712\" xlink:href=\"#mb4d40276dd\" y=\"224.64\"/>\r\n      </g>\r\n     </g>\r\n     <g id=\"text_2\">\r\n      <!-- 5.5 -->\r\n      <g transform=\"translate(81.204149 239.238438)scale(0.1 -0.1)\">\r\n       <use xlink:href=\"#DejaVuSans-35\"/>\r\n       <use x=\"63.623047\" xlink:href=\"#DejaVuSans-2e\"/>\r\n       <use x=\"95.410156\" xlink:href=\"#DejaVuSans-35\"/>\r\n      </g>\r\n     </g>\r\n    </g>\r\n    <g id=\"xtick_3\">\r\n     <g id=\"line2d_3\">\r\n      <g>\r\n       <use style=\"stroke:#000000;stroke-width:0.8;\" x=\"127.39235\" xlink:href=\"#mb4d40276dd\" y=\"224.64\"/>\r\n      </g>\r\n     </g>\r\n     <g id=\"text_3\">\r\n      <!-- 6.0 -->\r\n      <g transform=\"translate(119.440787 239.238438)scale(0.1 -0.1)\">\r\n       <defs>\r\n        <path d=\"M 2113 2584 \r\nQ 1688 2584 1439 2293 \r\nQ 1191 2003 1191 1497 \r\nQ 1191 994 1439 701 \r\nQ 1688 409 2113 409 \r\nQ 2538 409 2786 701 \r\nQ 3034 994 3034 1497 \r\nQ 3034 2003 2786 2293 \r\nQ 2538 2584 2113 2584 \r\nz\r\nM 3366 4563 \r\nL 3366 3988 \r\nQ 3128 4100 2886 4159 \r\nQ 2644 4219 2406 4219 \r\nQ 1781 4219 1451 3797 \r\nQ 1122 3375 1075 2522 \r\nQ 1259 2794 1537 2939 \r\nQ 1816 3084 2150 3084 \r\nQ 2853 3084 3261 2657 \r\nQ 3669 2231 3669 1497 \r\nQ 3669 778 3244 343 \r\nQ 2819 -91 2113 -91 \r\nQ 1303 -91 875 529 \r\nQ 447 1150 447 2328 \r\nQ 447 3434 972 4092 \r\nQ 1497 4750 2381 4750 \r\nQ 2619 4750 2861 4703 \r\nQ 3103 4656 3366 4563 \r\nz\r\n\" id=\"DejaVuSans-36\" transform=\"scale(0.015625)\"/>\r\n       </defs>\r\n       <use xlink:href=\"#DejaVuSans-36\"/>\r\n       <use x=\"63.623047\" xlink:href=\"#DejaVuSans-2e\"/>\r\n       <use x=\"95.410156\" xlink:href=\"#DejaVuSans-30\"/>\r\n      </g>\r\n     </g>\r\n    </g>\r\n    <g id=\"xtick_4\">\r\n     <g id=\"line2d_4\">\r\n      <g>\r\n       <use style=\"stroke:#000000;stroke-width:0.8;\" x=\"165.628987\" xlink:href=\"#mb4d40276dd\" y=\"224.64\"/>\r\n      </g>\r\n     </g>\r\n     <g id=\"text_4\">\r\n      <!-- 6.5 -->\r\n      <g transform=\"translate(157.677425 239.238438)scale(0.1 -0.1)\">\r\n       <use xlink:href=\"#DejaVuSans-36\"/>\r\n       <use x=\"63.623047\" xlink:href=\"#DejaVuSans-2e\"/>\r\n       <use x=\"95.410156\" xlink:href=\"#DejaVuSans-35\"/>\r\n      </g>\r\n     </g>\r\n    </g>\r\n    <g id=\"xtick_5\">\r\n     <g id=\"line2d_5\">\r\n      <g>\r\n       <use style=\"stroke:#000000;stroke-width:0.8;\" x=\"203.865625\" xlink:href=\"#mb4d40276dd\" y=\"224.64\"/>\r\n      </g>\r\n     </g>\r\n     <g id=\"text_5\">\r\n      <!-- 7.0 -->\r\n      <g transform=\"translate(195.914063 239.238438)scale(0.1 -0.1)\">\r\n       <defs>\r\n        <path d=\"M 525 4666 \r\nL 3525 4666 \r\nL 3525 4397 \r\nL 1831 0 \r\nL 1172 0 \r\nL 2766 4134 \r\nL 525 4134 \r\nL 525 4666 \r\nz\r\n\" id=\"DejaVuSans-37\" transform=\"scale(0.015625)\"/>\r\n       </defs>\r\n       <use xlink:href=\"#DejaVuSans-37\"/>\r\n       <use x=\"63.623047\" xlink:href=\"#DejaVuSans-2e\"/>\r\n       <use x=\"95.410156\" xlink:href=\"#DejaVuSans-30\"/>\r\n      </g>\r\n     </g>\r\n    </g>\r\n    <g id=\"xtick_6\">\r\n     <g id=\"line2d_6\">\r\n      <g>\r\n       <use style=\"stroke:#000000;stroke-width:0.8;\" x=\"242.102263\" xlink:href=\"#mb4d40276dd\" y=\"224.64\"/>\r\n      </g>\r\n     </g>\r\n     <g id=\"text_6\">\r\n      <!-- 7.5 -->\r\n      <g transform=\"translate(234.1507 239.238438)scale(0.1 -0.1)\">\r\n       <use xlink:href=\"#DejaVuSans-37\"/>\r\n       <use x=\"63.623047\" xlink:href=\"#DejaVuSans-2e\"/>\r\n       <use x=\"95.410156\" xlink:href=\"#DejaVuSans-35\"/>\r\n      </g>\r\n     </g>\r\n    </g>\r\n    <g id=\"xtick_7\">\r\n     <g id=\"line2d_7\">\r\n      <g>\r\n       <use style=\"stroke:#000000;stroke-width:0.8;\" x=\"280.3389\" xlink:href=\"#mb4d40276dd\" y=\"224.64\"/>\r\n      </g>\r\n     </g>\r\n     <g id=\"text_7\">\r\n      <!-- 8.0 -->\r\n      <g transform=\"translate(272.387338 239.238438)scale(0.1 -0.1)\">\r\n       <defs>\r\n        <path d=\"M 2034 2216 \r\nQ 1584 2216 1326 1975 \r\nQ 1069 1734 1069 1313 \r\nQ 1069 891 1326 650 \r\nQ 1584 409 2034 409 \r\nQ 2484 409 2743 651 \r\nQ 3003 894 3003 1313 \r\nQ 3003 1734 2745 1975 \r\nQ 2488 2216 2034 2216 \r\nz\r\nM 1403 2484 \r\nQ 997 2584 770 2862 \r\nQ 544 3141 544 3541 \r\nQ 544 4100 942 4425 \r\nQ 1341 4750 2034 4750 \r\nQ 2731 4750 3128 4425 \r\nQ 3525 4100 3525 3541 \r\nQ 3525 3141 3298 2862 \r\nQ 3072 2584 2669 2484 \r\nQ 3125 2378 3379 2068 \r\nQ 3634 1759 3634 1313 \r\nQ 3634 634 3220 271 \r\nQ 2806 -91 2034 -91 \r\nQ 1263 -91 848 271 \r\nQ 434 634 434 1313 \r\nQ 434 1759 690 2068 \r\nQ 947 2378 1403 2484 \r\nz\r\nM 1172 3481 \r\nQ 1172 3119 1398 2916 \r\nQ 1625 2713 2034 2713 \r\nQ 2441 2713 2670 2916 \r\nQ 2900 3119 2900 3481 \r\nQ 2900 3844 2670 4047 \r\nQ 2441 4250 2034 4250 \r\nQ 1625 4250 1398 4047 \r\nQ 1172 3844 1172 3481 \r\nz\r\n\" id=\"DejaVuSans-38\" transform=\"scale(0.015625)\"/>\r\n       </defs>\r\n       <use xlink:href=\"#DejaVuSans-38\"/>\r\n       <use x=\"63.623047\" xlink:href=\"#DejaVuSans-2e\"/>\r\n       <use x=\"95.410156\" xlink:href=\"#DejaVuSans-30\"/>\r\n      </g>\r\n     </g>\r\n    </g>\r\n    <g id=\"xtick_8\">\r\n     <g id=\"line2d_8\">\r\n      <g>\r\n       <use style=\"stroke:#000000;stroke-width:0.8;\" x=\"318.575538\" xlink:href=\"#mb4d40276dd\" y=\"224.64\"/>\r\n      </g>\r\n     </g>\r\n     <g id=\"text_8\">\r\n      <!-- 8.5 -->\r\n      <g transform=\"translate(310.623976 239.238438)scale(0.1 -0.1)\">\r\n       <use xlink:href=\"#DejaVuSans-38\"/>\r\n       <use x=\"63.623047\" xlink:href=\"#DejaVuSans-2e\"/>\r\n       <use x=\"95.410156\" xlink:href=\"#DejaVuSans-35\"/>\r\n      </g>\r\n     </g>\r\n    </g>\r\n    <g id=\"xtick_9\">\r\n     <g id=\"line2d_9\">\r\n      <g>\r\n       <use style=\"stroke:#000000;stroke-width:0.8;\" x=\"356.812176\" xlink:href=\"#mb4d40276dd\" y=\"224.64\"/>\r\n      </g>\r\n     </g>\r\n     <g id=\"text_9\">\r\n      <!-- 9.0 -->\r\n      <g transform=\"translate(348.860613 239.238438)scale(0.1 -0.1)\">\r\n       <defs>\r\n        <path d=\"M 703 97 \r\nL 703 672 \r\nQ 941 559 1184 500 \r\nQ 1428 441 1663 441 \r\nQ 2288 441 2617 861 \r\nQ 2947 1281 2994 2138 \r\nQ 2813 1869 2534 1725 \r\nQ 2256 1581 1919 1581 \r\nQ 1219 1581 811 2004 \r\nQ 403 2428 403 3163 \r\nQ 403 3881 828 4315 \r\nQ 1253 4750 1959 4750 \r\nQ 2769 4750 3195 4129 \r\nQ 3622 3509 3622 2328 \r\nQ 3622 1225 3098 567 \r\nQ 2575 -91 1691 -91 \r\nQ 1453 -91 1209 -44 \r\nQ 966 3 703 97 \r\nz\r\nM 1959 2075 \r\nQ 2384 2075 2632 2365 \r\nQ 2881 2656 2881 3163 \r\nQ 2881 3666 2632 3958 \r\nQ 2384 4250 1959 4250 \r\nQ 1534 4250 1286 3958 \r\nQ 1038 3666 1038 3163 \r\nQ 1038 2656 1286 2365 \r\nQ 1534 2075 1959 2075 \r\nz\r\n\" id=\"DejaVuSans-39\" transform=\"scale(0.015625)\"/>\r\n       </defs>\r\n       <use xlink:href=\"#DejaVuSans-39\"/>\r\n       <use x=\"63.623047\" xlink:href=\"#DejaVuSans-2e\"/>\r\n       <use x=\"95.410156\" xlink:href=\"#DejaVuSans-30\"/>\r\n      </g>\r\n     </g>\r\n    </g>\r\n   </g>\r\n   <g id=\"matplotlib.axis_2\">\r\n    <g id=\"ytick_1\">\r\n     <g id=\"line2d_10\">\r\n      <defs>\r\n       <path d=\"M 0 0 \r\nL -3.5 0 \r\n\" id=\"ma8e9f2d9e9\" style=\"stroke:#000000;stroke-width:0.8;\"/>\r\n      </defs>\r\n      <g>\r\n       <use style=\"stroke:#000000;stroke-width:0.8;\" x=\"36.465625\" xlink:href=\"#ma8e9f2d9e9\" y=\"206.110403\"/>\r\n      </g>\r\n     </g>\r\n     <g id=\"text_10\">\r\n      <!-- 70.0 -->\r\n      <g transform=\"translate(7.2 209.909621)scale(0.1 -0.1)\">\r\n       <use xlink:href=\"#DejaVuSans-37\"/>\r\n       <use x=\"63.623047\" xlink:href=\"#DejaVuSans-30\"/>\r\n       <use x=\"127.246094\" xlink:href=\"#DejaVuSans-2e\"/>\r\n       <use x=\"159.033203\" xlink:href=\"#DejaVuSans-30\"/>\r\n      </g>\r\n     </g>\r\n    </g>\r\n    <g id=\"ytick_2\">\r\n     <g id=\"line2d_11\">\r\n      <g>\r\n       <use style=\"stroke:#000000;stroke-width:0.8;\" x=\"36.465625\" xlink:href=\"#ma8e9f2d9e9\" y=\"176.500947\"/>\r\n      </g>\r\n     </g>\r\n     <g id=\"text_11\">\r\n      <!-- 72.5 -->\r\n      <g transform=\"translate(7.2 180.300165)scale(0.1 -0.1)\">\r\n       <defs>\r\n        <path d=\"M 1228 531 \r\nL 3431 531 \r\nL 3431 0 \r\nL 469 0 \r\nL 469 531 \r\nQ 828 903 1448 1529 \r\nQ 2069 2156 2228 2338 \r\nQ 2531 2678 2651 2914 \r\nQ 2772 3150 2772 3378 \r\nQ 2772 3750 2511 3984 \r\nQ 2250 4219 1831 4219 \r\nQ 1534 4219 1204 4116 \r\nQ 875 4013 500 3803 \r\nL 500 4441 \r\nQ 881 4594 1212 4672 \r\nQ 1544 4750 1819 4750 \r\nQ 2544 4750 2975 4387 \r\nQ 3406 4025 3406 3419 \r\nQ 3406 3131 3298 2873 \r\nQ 3191 2616 2906 2266 \r\nQ 2828 2175 2409 1742 \r\nQ 1991 1309 1228 531 \r\nz\r\n\" id=\"DejaVuSans-32\" transform=\"scale(0.015625)\"/>\r\n       </defs>\r\n       <use xlink:href=\"#DejaVuSans-37\"/>\r\n       <use x=\"63.623047\" xlink:href=\"#DejaVuSans-32\"/>\r\n       <use x=\"127.246094\" xlink:href=\"#DejaVuSans-2e\"/>\r\n       <use x=\"159.033203\" xlink:href=\"#DejaVuSans-35\"/>\r\n      </g>\r\n     </g>\r\n    </g>\r\n    <g id=\"ytick_3\">\r\n     <g id=\"line2d_12\">\r\n      <g>\r\n       <use style=\"stroke:#000000;stroke-width:0.8;\" x=\"36.465625\" xlink:href=\"#ma8e9f2d9e9\" y=\"146.891491\"/>\r\n      </g>\r\n     </g>\r\n     <g id=\"text_12\">\r\n      <!-- 75.0 -->\r\n      <g transform=\"translate(7.2 150.69071)scale(0.1 -0.1)\">\r\n       <use xlink:href=\"#DejaVuSans-37\"/>\r\n       <use x=\"63.623047\" xlink:href=\"#DejaVuSans-35\"/>\r\n       <use x=\"127.246094\" xlink:href=\"#DejaVuSans-2e\"/>\r\n       <use x=\"159.033203\" xlink:href=\"#DejaVuSans-30\"/>\r\n      </g>\r\n     </g>\r\n    </g>\r\n    <g id=\"ytick_4\">\r\n     <g id=\"line2d_13\">\r\n      <g>\r\n       <use style=\"stroke:#000000;stroke-width:0.8;\" x=\"36.465625\" xlink:href=\"#ma8e9f2d9e9\" y=\"117.282035\"/>\r\n      </g>\r\n     </g>\r\n     <g id=\"text_13\">\r\n      <!-- 77.5 -->\r\n      <g transform=\"translate(7.2 121.081254)scale(0.1 -0.1)\">\r\n       <use xlink:href=\"#DejaVuSans-37\"/>\r\n       <use x=\"63.623047\" xlink:href=\"#DejaVuSans-37\"/>\r\n       <use x=\"127.246094\" xlink:href=\"#DejaVuSans-2e\"/>\r\n       <use x=\"159.033203\" xlink:href=\"#DejaVuSans-35\"/>\r\n      </g>\r\n     </g>\r\n    </g>\r\n    <g id=\"ytick_5\">\r\n     <g id=\"line2d_14\">\r\n      <g>\r\n       <use style=\"stroke:#000000;stroke-width:0.8;\" x=\"36.465625\" xlink:href=\"#ma8e9f2d9e9\" y=\"87.672579\"/>\r\n      </g>\r\n     </g>\r\n     <g id=\"text_14\">\r\n      <!-- 80.0 -->\r\n      <g transform=\"translate(7.2 91.471798)scale(0.1 -0.1)\">\r\n       <use xlink:href=\"#DejaVuSans-38\"/>\r\n       <use x=\"63.623047\" xlink:href=\"#DejaVuSans-30\"/>\r\n       <use x=\"127.246094\" xlink:href=\"#DejaVuSans-2e\"/>\r\n       <use x=\"159.033203\" xlink:href=\"#DejaVuSans-30\"/>\r\n      </g>\r\n     </g>\r\n    </g>\r\n    <g id=\"ytick_6\">\r\n     <g id=\"line2d_15\">\r\n      <g>\r\n       <use style=\"stroke:#000000;stroke-width:0.8;\" x=\"36.465625\" xlink:href=\"#ma8e9f2d9e9\" y=\"58.063123\"/>\r\n      </g>\r\n     </g>\r\n     <g id=\"text_15\">\r\n      <!-- 82.5 -->\r\n      <g transform=\"translate(7.2 61.862342)scale(0.1 -0.1)\">\r\n       <use xlink:href=\"#DejaVuSans-38\"/>\r\n       <use x=\"63.623047\" xlink:href=\"#DejaVuSans-32\"/>\r\n       <use x=\"127.246094\" xlink:href=\"#DejaVuSans-2e\"/>\r\n       <use x=\"159.033203\" xlink:href=\"#DejaVuSans-35\"/>\r\n      </g>\r\n     </g>\r\n    </g>\r\n    <g id=\"ytick_7\">\r\n     <g id=\"line2d_16\">\r\n      <g>\r\n       <use style=\"stroke:#000000;stroke-width:0.8;\" x=\"36.465625\" xlink:href=\"#ma8e9f2d9e9\" y=\"28.453667\"/>\r\n      </g>\r\n     </g>\r\n     <g id=\"text_16\">\r\n      <!-- 85.0 -->\r\n      <g transform=\"translate(7.2 32.252886)scale(0.1 -0.1)\">\r\n       <use xlink:href=\"#DejaVuSans-38\"/>\r\n       <use x=\"63.623047\" xlink:href=\"#DejaVuSans-35\"/>\r\n       <use x=\"127.246094\" xlink:href=\"#DejaVuSans-2e\"/>\r\n       <use x=\"159.033203\" xlink:href=\"#DejaVuSans-30\"/>\r\n      </g>\r\n     </g>\r\n    </g>\r\n   </g>\r\n   <g id=\"line2d_17\">\r\n    <path clip-path=\"url(#pb71a06638e)\" d=\"M 65.448996 195.762116 \r\nL 354.517978 19.561999 \r\nL 51.683807 204.152598 \r\nL 351.459047 21.426551 \r\n\" style=\"fill:none;stroke:#ff0000;stroke-linecap:square;stroke-width:1.5;\"/>\r\n   </g>\r\n   <g id=\"patch_3\">\r\n    <path d=\"M 36.465625 224.64 \r\nL 36.465625 7.2 \r\n\" style=\"fill:none;stroke:#000000;stroke-linecap:square;stroke-linejoin:miter;stroke-width:0.8;\"/>\r\n   </g>\r\n   <g id=\"patch_4\">\r\n    <path d=\"M 371.265625 224.64 \r\nL 371.265625 7.2 \r\n\" style=\"fill:none;stroke:#000000;stroke-linecap:square;stroke-linejoin:miter;stroke-width:0.8;\"/>\r\n   </g>\r\n   <g id=\"patch_5\">\r\n    <path d=\"M 36.465625 224.64 \r\nL 371.265625 224.64 \r\n\" style=\"fill:none;stroke:#000000;stroke-linecap:square;stroke-linejoin:miter;stroke-width:0.8;\"/>\r\n   </g>\r\n   <g id=\"patch_6\">\r\n    <path d=\"M 36.465625 7.2 \r\nL 371.265625 7.2 \r\n\" style=\"fill:none;stroke:#000000;stroke-linecap:square;stroke-linejoin:miter;stroke-width:0.8;\"/>\r\n   </g>\r\n  </g>\r\n </g>\r\n <defs>\r\n  <clipPath id=\"pb71a06638e\">\r\n   <rect height=\"217.44\" width=\"334.8\" x=\"36.465625\" y=\"7.2\"/>\r\n  </clipPath>\r\n </defs>\r\n</svg>\r\n",
                        "image/png": "[encoded data removed]"
                    },
                    "metadata": {
                        "needs_background": "light"
                    }
                }
            ],
            "metadata": {}
        },
        {
            "cell_type": "code",
            "execution_count": 28,
            "source": [
                "import joblib\r\n",
                "joblib.dump(lr,\"Student_Marks_Predictor.pkl\")"
            ],
            "outputs": [
                {
                    "output_type": "execute_result",
                    "data": {
                        "text/plain": [
                            "['Student_Marks_Predictor.pkl']"
                        ]
                    },
                    "metadata": {},
                    "execution_count": 28
                }
            ],
            "metadata": {}
        },
        {
            "cell_type": "code",
            "execution_count": 29,
            "source": [
                "model=joblib.load(\"Student_Marks_Predictor.pkl\")"
            ],
            "outputs": [],
            "metadata": {}
        },
        {
            "cell_type": "code",
            "execution_count": 34,
            "source": [
                "model.predict([[5]])"
            ],
            "outputs": [
                {
                    "output_type": "execute_result",
                    "data": {
                        "text/plain": [
                            "array([[70.12594512]])"
                        ]
                    },
                    "metadata": {},
                    "execution_count": 34
                }
            ],
            "metadata": {}
        }
    ],
    "metadata": {
        "orig_nbformat": 4,
        "language_info": {
            "name": "python",
            "version": "3.9.2",
            "mimetype": "text/x-python",
            "codemirror_mode": {
                "name": "ipython",
                "version": 3
            },
            "pygments_lexer": "ipython3",
            "nbconvert_exporter": "python",
            "file_extension": ".py"
        },
        "kernelspec": {
            "name": "python3",
            "display_name": "Python 3.9.2 64-bit"
        },
        "interpreter": {
            "hash": "87398fbe31a6b52c78e7bd5443a3532136d0b70d49a28d15a91a367d277482fc"
        }
    },
    "nbformat": 4,
    "nbformat_minor": 2
}